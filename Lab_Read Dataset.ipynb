{
 "cells": [
  {
   "cell_type": "markdown",
   "id": "476378d4",
   "metadata": {},
   "source": [
    "Data Analytics: Lab 1"
   ]
  },
  {
   "cell_type": "markdown",
   "id": "3462cce1",
   "metadata": {},
   "source": [
    "Import the library"
   ]
  },
  {
   "cell_type": "code",
   "execution_count": 61,
   "id": "971cac15",
   "metadata": {},
   "outputs": [],
   "source": [
    "import pandas as pd\n",
    "import numpy as np"
   ]
  },
  {
   "cell_type": "markdown",
   "id": "381fcfa3",
   "metadata": {},
   "source": [
    "Read the dataset"
   ]
  },
  {
   "cell_type": "code",
   "execution_count": 62,
   "id": "bb0393a7",
   "metadata": {},
   "outputs": [
    {
     "name": "stdout",
     "output_type": "stream",
     "text": [
      "   Id  MSSubClass MSZoning  LotFrontage  LotArea Street Alley LotShape  \\\n",
      "0   1          60       RL         65.0     8450   Pave   NaN      Reg   \n",
      "1   2          20       RL         80.0     9600   Pave   NaN      Reg   \n",
      "2   3          60       RL         68.0    11250   Pave   NaN      IR1   \n",
      "3   4          70       RL         60.0     9550   Pave   NaN      IR1   \n",
      "4   5          60       RL         84.0    14260   Pave   NaN      IR1   \n",
      "5   6          50       RL         85.0       -1   Pave   NaN      IR1   \n",
      "6   7          20       RL         75.0    10084   Pave   NaN      Reg   \n",
      "7   8          60       RL          NaN    10382   Pave   NaN      IR1   \n",
      "8   9          50       RM         51.0     6120   Pave   NaN      Reg   \n",
      "9  10         190       RL         50.0     7420   Pave   NaN      Reg   \n",
      "\n",
      "  LandContour Utilities LotConfig Neighborhood BldgType HouseStyle  \\\n",
      "0         Lvl    AllPub    Inside      CollgCr     1Fam     2Story   \n",
      "1         Lvl    AllPub        \"\"      Veenker     1Fam     1Story   \n",
      "2         Lvl    AllPub    Inside      CollgCr     1Fam     2Story   \n",
      "3         Lvl    AllPub    Corner      Crawfor     1Fam     2Story   \n",
      "4         Lvl    AllPub       FR2      NoRidge     1Fam     2Story   \n",
      "5         Lvl    AllPub    Inside      Mitchel     1Fam     1.5Fin   \n",
      "6         Lvl    AllPub    Inside      Somerst     1Fam     1Story   \n",
      "7         Lvl    AllPub        \"\"       NWAmes     1Fam     2Story   \n",
      "8         Lvl    AllPub    Inside      OldTown     1Fam     1.5Fin   \n",
      "9         Lvl    AllPub    Corner      BrkSide   2fmCon        NaN   \n",
      "\n",
      "   OverallQual  OverallCond  YearBuilt  YearRemodAdd  GarageCars  SalePrice  \n",
      "0          7.0          5.0       2003          2003           2     208500  \n",
      "1          6.0          8.0       1976          1976           2     181500  \n",
      "2          7.0          5.0       2001          2002           2     223500  \n",
      "3          7.0          NaN       1915          1970           3     140000  \n",
      "4          8.0          5.0         -1          2000           3     250000  \n",
      "5          5.0          5.0       1993          1995           2     143000  \n",
      "6          8.0          5.0       2004          2005           2     307000  \n",
      "7          7.0          6.0       1973          1973           2     200000  \n",
      "8          NaN          5.0       1931          1950           2     129900  \n",
      "9          5.0          6.0       1939          1950           1     118000  \n"
     ]
    }
   ],
   "source": [
    "df = pd.read_csv(\"Lab1_dataset.csv\")\n",
    "print(df.head(10))"
   ]
  },
  {
   "cell_type": "markdown",
   "id": "714f4242",
   "metadata": {},
   "source": [
    "a) Missing data could be anything in { NA, n/a, “ ”, -1, …}. Read the data and assign the\n",
    "missing data in the dataframe as NaN. Hint: df.replace( …, np.nan, inplace=True)"
   ]
  },
  {
   "cell_type": "code",
   "execution_count": 78,
   "id": "5b527883",
   "metadata": {},
   "outputs": [
    {
     "name": "stdout",
     "output_type": "stream",
     "text": [
      "   Id  MSSubClass MSZoning  LotFrontage  LotArea Street Alley LotShape  \\\n",
      "0   1          60       RL         65.0   8450.0   Pave   NaN      Reg   \n",
      "1   2          20       RL         80.0   9600.0   Pave   NaN      Reg   \n",
      "2   3          60       RL         68.0  11250.0   Pave   NaN      IR1   \n",
      "3   4          70       RL         60.0   9550.0   Pave   NaN      IR1   \n",
      "4   5          60       RL         84.0  14260.0   Pave   NaN      IR1   \n",
      "5   6          50       RL         85.0      NaN   Pave   NaN      IR1   \n",
      "6   7          20       RL         75.0  10084.0   Pave   NaN      Reg   \n",
      "7   8          60       RL          NaN  10382.0   Pave   NaN      IR1   \n",
      "8   9          50       RM         51.0   6120.0   Pave   NaN      Reg   \n",
      "9  10         190       RL         50.0   7420.0   Pave   NaN      Reg   \n",
      "\n",
      "  LandContour Utilities LotConfig Neighborhood BldgType HouseStyle  \\\n",
      "0         Lvl    AllPub    Inside      CollgCr     1Fam     2Story   \n",
      "1         Lvl    AllPub       NaN      Veenker     1Fam     1Story   \n",
      "2         Lvl    AllPub    Inside      CollgCr     1Fam     2Story   \n",
      "3         Lvl    AllPub    Corner      Crawfor     1Fam     2Story   \n",
      "4         Lvl    AllPub       FR2      NoRidge     1Fam     2Story   \n",
      "5         Lvl    AllPub    Inside      Mitchel     1Fam     1.5Fin   \n",
      "6         Lvl    AllPub    Inside      Somerst     1Fam     1Story   \n",
      "7         Lvl    AllPub       NaN       NWAmes     1Fam     2Story   \n",
      "8         Lvl    AllPub    Inside      OldTown     1Fam     1.5Fin   \n",
      "9         Lvl    AllPub    Corner      BrkSide   2fmCon        NaN   \n",
      "\n",
      "   OverallQual  OverallCond  YearBuilt  YearRemodAdd  GarageCars  SalePrice  \n",
      "0          7.0          5.0     2003.0          2003           2     208500  \n",
      "1          6.0          8.0     1976.0          1976           2     181500  \n",
      "2          7.0          5.0     2001.0          2002           2     223500  \n",
      "3          7.0          NaN     1915.0          1970           3     140000  \n",
      "4          8.0          5.0        NaN          2000           3     250000  \n",
      "5          5.0          5.0     1993.0          1995           2     143000  \n",
      "6          8.0          5.0     2004.0          2005           2     307000  \n",
      "7          7.0          6.0     1973.0          1973           2     200000  \n",
      "8          NaN          5.0     1931.0          1950           2     129900  \n",
      "9          5.0          6.0     1939.0          1950           1     118000  \n"
     ]
    }
   ],
   "source": [
    "df.replace([\"NA\", \"n/a\", \"\", '\"\"', -1], np.nan, inplace=True)\n",
    "print(df.head(10))"
   ]
  },
  {
   "cell_type": "markdown",
   "id": "7e19f1e7",
   "metadata": {},
   "source": [
    "b) Show the summary of the dataframe"
   ]
  },
  {
   "cell_type": "code",
   "execution_count": 79,
   "id": "a5543bbe",
   "metadata": {},
   "outputs": [
    {
     "name": "stdout",
     "output_type": "stream",
     "text": [
      "<class 'pandas.core.frame.DataFrame'>\n",
      "RangeIndex: 99 entries, 0 to 98\n",
      "Data columns (total 20 columns):\n",
      " #   Column        Non-Null Count  Dtype  \n",
      "---  ------        --------------  -----  \n",
      " 0   Id            99 non-null     int64  \n",
      " 1   MSSubClass    99 non-null     int64  \n",
      " 2   MSZoning      99 non-null     object \n",
      " 3   LotFrontage   85 non-null     float64\n",
      " 4   LotArea       95 non-null     float64\n",
      " 5   Street        99 non-null     object \n",
      " 6   Alley         6 non-null      object \n",
      " 7   LotShape      99 non-null     object \n",
      " 8   LandContour   99 non-null     object \n",
      " 9   Utilities     99 non-null     object \n",
      " 10  LotConfig     94 non-null     object \n",
      " 11  Neighborhood  99 non-null     object \n",
      " 12  BldgType      99 non-null     object \n",
      " 13  HouseStyle    95 non-null     object \n",
      " 14  OverallQual   94 non-null     float64\n",
      " 15  OverallCond   95 non-null     float64\n",
      " 16  YearBuilt     92 non-null     float64\n",
      " 17  YearRemodAdd  99 non-null     int64  \n",
      " 18  GarageCars    99 non-null     int64  \n",
      " 19  SalePrice     99 non-null     int64  \n",
      "dtypes: float64(5), int64(5), object(10)\n",
      "memory usage: 15.6+ KB\n"
     ]
    }
   ],
   "source": [
    "df.info()"
   ]
  },
  {
   "cell_type": "code",
   "execution_count": 80,
   "id": "ebecb51e",
   "metadata": {},
   "outputs": [
    {
     "data": {
      "application/vnd.microsoft.datawrangler.viewer.v0+json": {
       "columns": [
        {
         "name": "index",
         "rawType": "object",
         "type": "string"
        },
        {
         "name": "Id",
         "rawType": "float64",
         "type": "float"
        },
        {
         "name": "MSSubClass",
         "rawType": "float64",
         "type": "float"
        },
        {
         "name": "LotFrontage",
         "rawType": "float64",
         "type": "float"
        },
        {
         "name": "LotArea",
         "rawType": "float64",
         "type": "float"
        },
        {
         "name": "OverallQual",
         "rawType": "float64",
         "type": "float"
        },
        {
         "name": "OverallCond",
         "rawType": "float64",
         "type": "float"
        },
        {
         "name": "YearBuilt",
         "rawType": "float64",
         "type": "float"
        },
        {
         "name": "YearRemodAdd",
         "rawType": "float64",
         "type": "float"
        },
        {
         "name": "GarageCars",
         "rawType": "float64",
         "type": "float"
        },
        {
         "name": "SalePrice",
         "rawType": "float64",
         "type": "float"
        }
       ],
       "ref": "c4f97dda-e514-43c6-92ea-96639120f660",
       "rows": [
        [
         "count",
         "99.0",
         "99.0",
         "85.0",
         "95.0",
         "94.0",
         "95.0",
         "92.0",
         "99.0",
         "99.0",
         "99.0"
        ],
        [
         "mean",
         "50.0",
         "52.323232323232325",
         "71.34117647058824",
         "10060.263157894737",
         "5.957446808510638",
         "5.473684210526316",
         "1971.3152173913043",
         "1984.171717171717",
         "1.7676767676767677",
         "174273.898989899"
        ],
        [
         "std",
         "28.722813232690143",
         "42.638209433924274",
         "21.210146348463727",
         "5232.546799072063",
         "1.5163261601720004",
         "0.9658212827847373",
         "29.771263284157747",
         "20.921642150809742",
         "0.7399432249081038",
         "72461.11726164605"
        ],
        [
         "min",
         "1.0",
         "20.0",
         "21.0",
         "1596.0",
         "3.0",
         "2.0",
         "1910.0",
         "1950.0",
         "0.0",
         "40000.0"
        ],
        [
         "25%",
         "25.5",
         "20.0",
         "60.0",
         "7579.5",
         "5.0",
         "5.0",
         "1954.75",
         "1965.0",
         "1.0",
         "129500.0"
        ],
        [
         "50%",
         "50.0",
         "45.0",
         "70.0",
         "9591.0",
         "6.0",
         "5.0",
         "1971.0",
         "1995.0",
         "2.0",
         "154000.0"
        ],
        [
         "75%",
         "74.5",
         "60.0",
         "84.0",
         "11220.5",
         "7.0",
         "6.0",
         "1999.5",
         "2003.5",
         "2.0",
         "208000.0"
        ],
        [
         "max",
         "99.0",
         "190.0",
         "122.0",
         "50271.0",
         "10.0",
         "8.0",
         "2009.0",
         "2009.0",
         "3.0",
         "438780.0"
        ]
       ],
       "shape": {
        "columns": 10,
        "rows": 8
       }
      },
      "text/html": [
       "<div>\n",
       "<style scoped>\n",
       "    .dataframe tbody tr th:only-of-type {\n",
       "        vertical-align: middle;\n",
       "    }\n",
       "\n",
       "    .dataframe tbody tr th {\n",
       "        vertical-align: top;\n",
       "    }\n",
       "\n",
       "    .dataframe thead th {\n",
       "        text-align: right;\n",
       "    }\n",
       "</style>\n",
       "<table border=\"1\" class=\"dataframe\">\n",
       "  <thead>\n",
       "    <tr style=\"text-align: right;\">\n",
       "      <th></th>\n",
       "      <th>Id</th>\n",
       "      <th>MSSubClass</th>\n",
       "      <th>LotFrontage</th>\n",
       "      <th>LotArea</th>\n",
       "      <th>OverallQual</th>\n",
       "      <th>OverallCond</th>\n",
       "      <th>YearBuilt</th>\n",
       "      <th>YearRemodAdd</th>\n",
       "      <th>GarageCars</th>\n",
       "      <th>SalePrice</th>\n",
       "    </tr>\n",
       "  </thead>\n",
       "  <tbody>\n",
       "    <tr>\n",
       "      <th>count</th>\n",
       "      <td>99.000000</td>\n",
       "      <td>99.000000</td>\n",
       "      <td>85.000000</td>\n",
       "      <td>95.000000</td>\n",
       "      <td>94.000000</td>\n",
       "      <td>95.000000</td>\n",
       "      <td>92.000000</td>\n",
       "      <td>99.000000</td>\n",
       "      <td>99.000000</td>\n",
       "      <td>99.000000</td>\n",
       "    </tr>\n",
       "    <tr>\n",
       "      <th>mean</th>\n",
       "      <td>50.000000</td>\n",
       "      <td>52.323232</td>\n",
       "      <td>71.341176</td>\n",
       "      <td>10060.263158</td>\n",
       "      <td>5.957447</td>\n",
       "      <td>5.473684</td>\n",
       "      <td>1971.315217</td>\n",
       "      <td>1984.171717</td>\n",
       "      <td>1.767677</td>\n",
       "      <td>174273.898990</td>\n",
       "    </tr>\n",
       "    <tr>\n",
       "      <th>std</th>\n",
       "      <td>28.722813</td>\n",
       "      <td>42.638209</td>\n",
       "      <td>21.210146</td>\n",
       "      <td>5232.546799</td>\n",
       "      <td>1.516326</td>\n",
       "      <td>0.965821</td>\n",
       "      <td>29.771263</td>\n",
       "      <td>20.921642</td>\n",
       "      <td>0.739943</td>\n",
       "      <td>72461.117262</td>\n",
       "    </tr>\n",
       "    <tr>\n",
       "      <th>min</th>\n",
       "      <td>1.000000</td>\n",
       "      <td>20.000000</td>\n",
       "      <td>21.000000</td>\n",
       "      <td>1596.000000</td>\n",
       "      <td>3.000000</td>\n",
       "      <td>2.000000</td>\n",
       "      <td>1910.000000</td>\n",
       "      <td>1950.000000</td>\n",
       "      <td>0.000000</td>\n",
       "      <td>40000.000000</td>\n",
       "    </tr>\n",
       "    <tr>\n",
       "      <th>25%</th>\n",
       "      <td>25.500000</td>\n",
       "      <td>20.000000</td>\n",
       "      <td>60.000000</td>\n",
       "      <td>7579.500000</td>\n",
       "      <td>5.000000</td>\n",
       "      <td>5.000000</td>\n",
       "      <td>1954.750000</td>\n",
       "      <td>1965.000000</td>\n",
       "      <td>1.000000</td>\n",
       "      <td>129500.000000</td>\n",
       "    </tr>\n",
       "    <tr>\n",
       "      <th>50%</th>\n",
       "      <td>50.000000</td>\n",
       "      <td>45.000000</td>\n",
       "      <td>70.000000</td>\n",
       "      <td>9591.000000</td>\n",
       "      <td>6.000000</td>\n",
       "      <td>5.000000</td>\n",
       "      <td>1971.000000</td>\n",
       "      <td>1995.000000</td>\n",
       "      <td>2.000000</td>\n",
       "      <td>154000.000000</td>\n",
       "    </tr>\n",
       "    <tr>\n",
       "      <th>75%</th>\n",
       "      <td>74.500000</td>\n",
       "      <td>60.000000</td>\n",
       "      <td>84.000000</td>\n",
       "      <td>11220.500000</td>\n",
       "      <td>7.000000</td>\n",
       "      <td>6.000000</td>\n",
       "      <td>1999.500000</td>\n",
       "      <td>2003.500000</td>\n",
       "      <td>2.000000</td>\n",
       "      <td>208000.000000</td>\n",
       "    </tr>\n",
       "    <tr>\n",
       "      <th>max</th>\n",
       "      <td>99.000000</td>\n",
       "      <td>190.000000</td>\n",
       "      <td>122.000000</td>\n",
       "      <td>50271.000000</td>\n",
       "      <td>10.000000</td>\n",
       "      <td>8.000000</td>\n",
       "      <td>2009.000000</td>\n",
       "      <td>2009.000000</td>\n",
       "      <td>3.000000</td>\n",
       "      <td>438780.000000</td>\n",
       "    </tr>\n",
       "  </tbody>\n",
       "</table>\n",
       "</div>"
      ],
      "text/plain": [
       "              Id  MSSubClass  LotFrontage       LotArea  OverallQual  \\\n",
       "count  99.000000   99.000000    85.000000     95.000000    94.000000   \n",
       "mean   50.000000   52.323232    71.341176  10060.263158     5.957447   \n",
       "std    28.722813   42.638209    21.210146   5232.546799     1.516326   \n",
       "min     1.000000   20.000000    21.000000   1596.000000     3.000000   \n",
       "25%    25.500000   20.000000    60.000000   7579.500000     5.000000   \n",
       "50%    50.000000   45.000000    70.000000   9591.000000     6.000000   \n",
       "75%    74.500000   60.000000    84.000000  11220.500000     7.000000   \n",
       "max    99.000000  190.000000   122.000000  50271.000000    10.000000   \n",
       "\n",
       "       OverallCond    YearBuilt  YearRemodAdd  GarageCars      SalePrice  \n",
       "count    95.000000    92.000000     99.000000   99.000000      99.000000  \n",
       "mean      5.473684  1971.315217   1984.171717    1.767677  174273.898990  \n",
       "std       0.965821    29.771263     20.921642    0.739943   72461.117262  \n",
       "min       2.000000  1910.000000   1950.000000    0.000000   40000.000000  \n",
       "25%       5.000000  1954.750000   1965.000000    1.000000  129500.000000  \n",
       "50%       5.000000  1971.000000   1995.000000    2.000000  154000.000000  \n",
       "75%       6.000000  1999.500000   2003.500000    2.000000  208000.000000  \n",
       "max       8.000000  2009.000000   2009.000000    3.000000  438780.000000  "
      ]
     },
     "execution_count": 80,
     "metadata": {},
     "output_type": "execute_result"
    }
   ],
   "source": [
    "df.describe()"
   ]
  },
  {
   "cell_type": "markdown",
   "id": "dd87790f",
   "metadata": {},
   "source": [
    "c) Count the number and percentage of missing data in each column and the entire dataset"
   ]
  },
  {
   "cell_type": "code",
   "execution_count": 81,
   "id": "f4033542",
   "metadata": {},
   "outputs": [
    {
     "data": {
      "application/vnd.microsoft.datawrangler.viewer.v0+json": {
       "columns": [
        {
         "name": "index",
         "rawType": "object",
         "type": "string"
        },
        {
         "name": "0",
         "rawType": "int64",
         "type": "integer"
        }
       ],
       "ref": "b1284ac2-094e-44a5-912c-5ab675c2d4d0",
       "rows": [
        [
         "Id",
         "0"
        ],
        [
         "MSSubClass",
         "0"
        ],
        [
         "MSZoning",
         "0"
        ],
        [
         "LotFrontage",
         "14"
        ],
        [
         "LotArea",
         "4"
        ],
        [
         "Street",
         "0"
        ],
        [
         "Alley",
         "93"
        ],
        [
         "LotShape",
         "0"
        ],
        [
         "LandContour",
         "0"
        ],
        [
         "Utilities",
         "0"
        ],
        [
         "LotConfig",
         "5"
        ],
        [
         "Neighborhood",
         "0"
        ],
        [
         "BldgType",
         "0"
        ],
        [
         "HouseStyle",
         "4"
        ],
        [
         "OverallQual",
         "5"
        ],
        [
         "OverallCond",
         "4"
        ],
        [
         "YearBuilt",
         "7"
        ],
        [
         "YearRemodAdd",
         "0"
        ],
        [
         "GarageCars",
         "0"
        ],
        [
         "SalePrice",
         "0"
        ]
       ],
       "shape": {
        "columns": 1,
        "rows": 20
       }
      },
      "text/plain": [
       "Id               0\n",
       "MSSubClass       0\n",
       "MSZoning         0\n",
       "LotFrontage     14\n",
       "LotArea          4\n",
       "Street           0\n",
       "Alley           93\n",
       "LotShape         0\n",
       "LandContour      0\n",
       "Utilities        0\n",
       "LotConfig        5\n",
       "Neighborhood     0\n",
       "BldgType         0\n",
       "HouseStyle       4\n",
       "OverallQual      5\n",
       "OverallCond      4\n",
       "YearBuilt        7\n",
       "YearRemodAdd     0\n",
       "GarageCars       0\n",
       "SalePrice        0\n",
       "dtype: int64"
      ]
     },
     "execution_count": 81,
     "metadata": {},
     "output_type": "execute_result"
    }
   ],
   "source": [
    "df.isnull().sum()"
   ]
  },
  {
   "cell_type": "code",
   "execution_count": 82,
   "id": "4f12608f",
   "metadata": {},
   "outputs": [
    {
     "data": {
      "application/vnd.microsoft.datawrangler.viewer.v0+json": {
       "columns": [
        {
         "name": "index",
         "rawType": "object",
         "type": "string"
        },
        {
         "name": "0",
         "rawType": "float64",
         "type": "float"
        }
       ],
       "ref": "60f6b489-ad3c-4dcb-bfd4-e9136f4fd712",
       "rows": [
        [
         "Id",
         "0.0"
        ],
        [
         "MSSubClass",
         "0.0"
        ],
        [
         "MSZoning",
         "0.0"
        ],
        [
         "LotFrontage",
         "14.14141414141414"
        ],
        [
         "LotArea",
         "4.040404040404041"
        ],
        [
         "Street",
         "0.0"
        ],
        [
         "Alley",
         "93.93939393939394"
        ],
        [
         "LotShape",
         "0.0"
        ],
        [
         "LandContour",
         "0.0"
        ],
        [
         "Utilities",
         "0.0"
        ],
        [
         "LotConfig",
         "5.05050505050505"
        ],
        [
         "Neighborhood",
         "0.0"
        ],
        [
         "BldgType",
         "0.0"
        ],
        [
         "HouseStyle",
         "4.040404040404041"
        ],
        [
         "OverallQual",
         "5.05050505050505"
        ],
        [
         "OverallCond",
         "4.040404040404041"
        ],
        [
         "YearBuilt",
         "7.07070707070707"
        ],
        [
         "YearRemodAdd",
         "0.0"
        ],
        [
         "GarageCars",
         "0.0"
        ],
        [
         "SalePrice",
         "0.0"
        ]
       ],
       "shape": {
        "columns": 1,
        "rows": 20
       }
      },
      "text/plain": [
       "Id               0.000000\n",
       "MSSubClass       0.000000\n",
       "MSZoning         0.000000\n",
       "LotFrontage     14.141414\n",
       "LotArea          4.040404\n",
       "Street           0.000000\n",
       "Alley           93.939394\n",
       "LotShape         0.000000\n",
       "LandContour      0.000000\n",
       "Utilities        0.000000\n",
       "LotConfig        5.050505\n",
       "Neighborhood     0.000000\n",
       "BldgType         0.000000\n",
       "HouseStyle       4.040404\n",
       "OverallQual      5.050505\n",
       "OverallCond      4.040404\n",
       "YearBuilt        7.070707\n",
       "YearRemodAdd     0.000000\n",
       "GarageCars       0.000000\n",
       "SalePrice        0.000000\n",
       "dtype: float64"
      ]
     },
     "execution_count": 82,
     "metadata": {},
     "output_type": "execute_result"
    }
   ],
   "source": [
    "df.isnull().sum() / len(df) * 100"
   ]
  },
  {
   "cell_type": "code",
   "execution_count": 83,
   "id": "c5985987",
   "metadata": {},
   "outputs": [
    {
     "name": "stdout",
     "output_type": "stream",
     "text": [
      "Total missing values: 136\n",
      "Percentage of missing values: 6.8686868686868685 %\n"
     ]
    }
   ],
   "source": [
    "print(\"Total missing values:\", df.isnull().sum().sum())\n",
    "print(\"Percentage of missing values:\", df.isnull().sum().sum() / (df.size) * 100, \"%\")"
   ]
  },
  {
   "cell_type": "markdown",
   "id": "4482c304",
   "metadata": {},
   "source": [
    "d) Randomly drop 25% of the rows that have missing data. Hint: use any() and numpy.random.choice()"
   ]
  },
  {
   "cell_type": "code",
   "execution_count": 85,
   "id": "c2a5aedf",
   "metadata": {},
   "outputs": [
    {
     "name": "stdout",
     "output_type": "stream",
     "text": [
      "\n",
      "DataFrame after dropping 25 percent rows with missing data:\n",
      "     Id  MSSubClass MSZoning  LotFrontage  LotArea Street Alley LotShape  \\\n",
      "0    1          60       RL         65.0   8450.0   Pave   NaN      Reg   \n",
      "2    3          60       RL         68.0  11250.0   Pave   NaN      IR1   \n",
      "4    5          60       RL         84.0  14260.0   Pave   NaN      IR1   \n",
      "6    7          20       RL         75.0  10084.0   Pave   NaN      Reg   \n",
      "7    8          60       RL          NaN  10382.0   Pave   NaN      IR1   \n",
      "..  ..         ...      ...          ...      ...    ...   ...      ...   \n",
      "92  93          30       RL         80.0  13360.0   Pave  Grvl      IR1   \n",
      "93  94         190  C (all)         60.0   7200.0   Pave   NaN      Reg   \n",
      "94  95          60       RL         69.0   9337.0   Pave   NaN      IR1   \n",
      "96  97          20       RL         78.0  10264.0   Pave   NaN      IR1   \n",
      "97  98          20       RL         73.0  10921.0   Pave   NaN      Reg   \n",
      "\n",
      "   LandContour Utilities LotConfig Neighborhood BldgType HouseStyle  \\\n",
      "0          Lvl    AllPub    Inside      CollgCr     1Fam     2Story   \n",
      "2          Lvl    AllPub    Inside      CollgCr     1Fam     2Story   \n",
      "4          Lvl    AllPub       FR2      NoRidge     1Fam     2Story   \n",
      "6          Lvl    AllPub    Inside      Somerst     1Fam     1Story   \n",
      "7          Lvl    AllPub       NaN       NWAmes     1Fam     2Story   \n",
      "..         ...       ...       ...          ...      ...        ...   \n",
      "92         HLS    AllPub    Inside      Crawfor     1Fam     1Story   \n",
      "93         Lvl    AllPub    Corner      OldTown   2fmCon     2.5Unf   \n",
      "94         Lvl    AllPub    Inside      CollgCr     1Fam     2Story   \n",
      "96         Lvl    AllPub    Inside      CollgCr     1Fam     1Story   \n",
      "97         HLS    AllPub    Inside      Edwards     1Fam     1Story   \n",
      "\n",
      "    OverallQual  OverallCond  YearBuilt  YearRemodAdd  GarageCars  SalePrice  \n",
      "0           7.0          5.0     2003.0          2003           2     208500  \n",
      "2           7.0          5.0     2001.0          2002           2     223500  \n",
      "4           8.0          5.0        NaN          2000           3     250000  \n",
      "6           8.0          5.0     2004.0          2005           2     307000  \n",
      "7           7.0          6.0     1973.0          1973           2     200000  \n",
      "..          ...          ...        ...           ...         ...        ...  \n",
      "92          5.0          7.0     1921.0          2006           2     163500  \n",
      "93          6.0          6.0     1910.0          1998           2     133900  \n",
      "94          6.0          5.0     1997.0          1997           2     204750  \n",
      "96          7.0          5.0     1999.0          1999           2     214000  \n",
      "97          4.0          5.0     1965.0          1965           1      94750  \n",
      "\n",
      "[76 rows x 20 columns]\n"
     ]
    }
   ],
   "source": [
    "# Step 1: Identify missing rows\n",
    "missing_values_rows = df.isnull().any(axis=1)\n",
    "# Get the index of the rows with missing data\n",
    "# Using the 25%, we have to find the exact number of rows to drop.\n",
    "drop_percentage = 25\n",
    "drop_rows = int(len(df[missing_values_rows].index) * (drop_percentage / 100))\n",
    "# Using np.random.choice to randomly select 25% of the missing rows to drop \n",
    "df_dropped = df.drop(np.random.choice(df[missing_values_rows].index, drop_rows, replace=False))\n",
    "print(\"\\nDataFrame after dropping 25 percent rows with missing data:\\n\", df_dropped)"
   ]
  },
  {
   "cell_type": "code",
   "execution_count": 86,
   "id": "f0319bde",
   "metadata": {},
   "outputs": [
    {
     "name": "stdout",
     "output_type": "stream",
     "text": [
      "Total missing values: 98\n",
      "Percentage of missing values: 6.447368421052632 %\n"
     ]
    }
   ],
   "source": [
    "print(\"Total missing values:\", df_dropped.isnull().sum().sum())\n",
    "print(\"Percentage of missing values:\", df_dropped.isnull().sum().sum() / (df_dropped.size) * 100, \"%\")"
   ]
  },
  {
   "cell_type": "markdown",
   "id": "f9222fb4",
   "metadata": {},
   "source": [
    "e) Fill in the missing data with median (if the column data type is numeric) or mode (if the column data type is not numeric)"
   ]
  },
  {
   "cell_type": "code",
   "execution_count": 87,
   "id": "b8cf0d05",
   "metadata": {},
   "outputs": [
    {
     "name": "stdout",
     "output_type": "stream",
     "text": [
      "DataFrame (imputed values only):\n",
      "     Id  MSSubClass MSZoning  LotFrontage  LotArea Street Alley LotShape  \\\n",
      "0    1          60       RL         65.0   8450.0   Pave  Grvl      Reg   \n",
      "1    2          20       RL         80.0   9600.0   Pave  Grvl      Reg   \n",
      "2    3          60       RL         68.0  11250.0   Pave  Grvl      IR1   \n",
      "3    4          70       RL         60.0   9550.0   Pave  Grvl      IR1   \n",
      "4    5          60       RL         84.0  14260.0   Pave  Grvl      IR1   \n",
      "..  ..         ...      ...          ...      ...    ...   ...      ...   \n",
      "94  95          60       RL         69.0   9337.0   Pave  Grvl      IR1   \n",
      "95  96          60       RL         70.0   9765.0   Pave  Grvl      IR2   \n",
      "96  97          20       RL         78.0  10264.0   Pave  Grvl      IR1   \n",
      "97  98          20       RL         73.0  10921.0   Pave  Grvl      Reg   \n",
      "98  99          30       RL         85.0  10625.0   Pave  Grvl      Reg   \n",
      "\n",
      "   LandContour Utilities LotConfig Neighborhood BldgType HouseStyle  \\\n",
      "0          Lvl    AllPub    Inside      CollgCr     1Fam     2Story   \n",
      "1          Lvl    AllPub    Inside      Veenker     1Fam     1Story   \n",
      "2          Lvl    AllPub    Inside      CollgCr     1Fam     2Story   \n",
      "3          Lvl    AllPub    Corner      Crawfor     1Fam     2Story   \n",
      "4          Lvl    AllPub       FR2      NoRidge     1Fam     2Story   \n",
      "..         ...       ...       ...          ...      ...        ...   \n",
      "94         Lvl    AllPub    Inside      CollgCr     1Fam     2Story   \n",
      "95         Lvl    AllPub    Corner      Gilbert     1Fam     2Story   \n",
      "96         Lvl    AllPub    Inside      CollgCr     1Fam     1Story   \n",
      "97         HLS    AllPub    Inside      Edwards     1Fam     1Story   \n",
      "98         Lvl    AllPub    Corner      Edwards     1Fam     1Story   \n",
      "\n",
      "    OverallQual  OverallCond  YearBuilt  YearRemodAdd  GarageCars  SalePrice  \n",
      "0           7.0          5.0     2003.0          2003           2     208500  \n",
      "1           6.0          8.0     1976.0          1976           2     181500  \n",
      "2           7.0          5.0     2001.0          2002           2     223500  \n",
      "3           7.0          5.0     1915.0          1970           3     140000  \n",
      "4           8.0          5.0     1971.0          2000           3     250000  \n",
      "..          ...          ...        ...           ...         ...        ...  \n",
      "94          6.0          5.0     1997.0          1997           2     204750  \n",
      "95          6.0          5.0     1993.0          1993           2     185000  \n",
      "96          7.0          5.0     1999.0          1999           2     214000  \n",
      "97          4.0          5.0     1965.0          1965           1      94750  \n",
      "98          5.0          5.0     1920.0          1950           1      83000  \n",
      "\n",
      "[93 rows x 20 columns]\n"
     ]
    }
   ],
   "source": [
    "# Get missing values\n",
    "missing_data = df[df.isnull().any(axis=1)]\n",
    "# Select numerical columns\n",
    "numerical_columns = df.select_dtypes(include=['number']).columns\n",
    "# Select non-numerical columns\n",
    "object_columns = df.select_dtypes(include=['object']).columns\n",
    "# Fill in the numerical columns with the median\n",
    "df[numerical_columns] = df[numerical_columns].fillna(df[numerical_columns].median())\n",
    "# Fill in the object columns with the mode\n",
    "# In case there are multiple modes, select the first mode found\n",
    "df[object_columns] = df[object_columns].fillna(df[object_columns].mode().iloc[0])\n",
    "# Display the updated dataset, focusing on the missing values\n",
    "imputed_data = df.loc[missing_data.index, df.columns]\n",
    "print(\"DataFrame (imputed values only):\\n\", imputed_data)"
   ]
  },
  {
   "cell_type": "markdown",
   "id": "fec03735",
   "metadata": {},
   "source": [
    "f) Show the summary of the updated dataframe"
   ]
  },
  {
   "cell_type": "code",
   "execution_count": 88,
   "id": "736b83a7",
   "metadata": {},
   "outputs": [
    {
     "name": "stdout",
     "output_type": "stream",
     "text": [
      "<class 'pandas.core.frame.DataFrame'>\n",
      "RangeIndex: 99 entries, 0 to 98\n",
      "Data columns (total 20 columns):\n",
      " #   Column        Non-Null Count  Dtype  \n",
      "---  ------        --------------  -----  \n",
      " 0   Id            99 non-null     int64  \n",
      " 1   MSSubClass    99 non-null     int64  \n",
      " 2   MSZoning      99 non-null     object \n",
      " 3   LotFrontage   99 non-null     float64\n",
      " 4   LotArea       99 non-null     float64\n",
      " 5   Street        99 non-null     object \n",
      " 6   Alley         99 non-null     object \n",
      " 7   LotShape      99 non-null     object \n",
      " 8   LandContour   99 non-null     object \n",
      " 9   Utilities     99 non-null     object \n",
      " 10  LotConfig     99 non-null     object \n",
      " 11  Neighborhood  99 non-null     object \n",
      " 12  BldgType      99 non-null     object \n",
      " 13  HouseStyle    99 non-null     object \n",
      " 14  OverallQual   99 non-null     float64\n",
      " 15  OverallCond   99 non-null     float64\n",
      " 16  YearBuilt     99 non-null     float64\n",
      " 17  YearRemodAdd  99 non-null     int64  \n",
      " 18  GarageCars    99 non-null     int64  \n",
      " 19  SalePrice     99 non-null     int64  \n",
      "dtypes: float64(5), int64(5), object(10)\n",
      "memory usage: 15.6+ KB\n"
     ]
    }
   ],
   "source": [
    "df.info()"
   ]
  },
  {
   "cell_type": "code",
   "execution_count": 89,
   "id": "3926602f",
   "metadata": {},
   "outputs": [
    {
     "data": {
      "application/vnd.microsoft.datawrangler.viewer.v0+json": {
       "columns": [
        {
         "name": "index",
         "rawType": "object",
         "type": "string"
        },
        {
         "name": "Id",
         "rawType": "float64",
         "type": "float"
        },
        {
         "name": "MSSubClass",
         "rawType": "float64",
         "type": "float"
        },
        {
         "name": "LotFrontage",
         "rawType": "float64",
         "type": "float"
        },
        {
         "name": "LotArea",
         "rawType": "float64",
         "type": "float"
        },
        {
         "name": "OverallQual",
         "rawType": "float64",
         "type": "float"
        },
        {
         "name": "OverallCond",
         "rawType": "float64",
         "type": "float"
        },
        {
         "name": "YearBuilt",
         "rawType": "float64",
         "type": "float"
        },
        {
         "name": "YearRemodAdd",
         "rawType": "float64",
         "type": "float"
        },
        {
         "name": "GarageCars",
         "rawType": "float64",
         "type": "float"
        },
        {
         "name": "SalePrice",
         "rawType": "float64",
         "type": "float"
        }
       ],
       "ref": "56581d50-ab05-48d8-92f0-0fdfbabc1fc7",
       "rows": [
        [
         "count",
         "99.0",
         "99.0",
         "99.0",
         "99.0",
         "99.0",
         "99.0",
         "99.0",
         "99.0",
         "99.0",
         "99.0"
        ],
        [
         "mean",
         "50.0",
         "52.323232323232325",
         "71.15151515151516",
         "10041.30303030303",
         "5.959595959595959",
         "5.454545454545454",
         "1971.2929292929293",
         "1984.171717171717",
         "1.7676767676767677",
         "174273.898989899"
        ],
        [
         "std",
         "28.722813232690143",
         "42.638209433924274",
         "19.642396688818057",
         "5125.489092549887",
         "1.4771676698606249",
         "0.950539344994298",
         "28.688422085221895",
         "20.921642150809742",
         "0.7399432249081038",
         "72461.11726164605"
        ],
        [
         "min",
         "1.0",
         "20.0",
         "21.0",
         "1596.0",
         "3.0",
         "2.0",
         "1910.0",
         "1950.0",
         "0.0",
         "40000.0"
        ],
        [
         "25%",
         "25.5",
         "20.0",
         "60.0",
         "7628.5",
         "5.0",
         "5.0",
         "1956.0",
         "1965.0",
         "1.0",
         "129500.0"
        ],
        [
         "50%",
         "50.0",
         "45.0",
         "70.0",
         "9591.0",
         "6.0",
         "5.0",
         "1971.0",
         "1995.0",
         "2.0",
         "154000.0"
        ],
        [
         "75%",
         "74.5",
         "60.0",
         "80.5",
         "11148.0",
         "7.0",
         "6.0",
         "1998.5",
         "2003.5",
         "2.0",
         "208000.0"
        ],
        [
         "max",
         "99.0",
         "190.0",
         "122.0",
         "50271.0",
         "10.0",
         "8.0",
         "2009.0",
         "2009.0",
         "3.0",
         "438780.0"
        ]
       ],
       "shape": {
        "columns": 10,
        "rows": 8
       }
      },
      "text/html": [
       "<div>\n",
       "<style scoped>\n",
       "    .dataframe tbody tr th:only-of-type {\n",
       "        vertical-align: middle;\n",
       "    }\n",
       "\n",
       "    .dataframe tbody tr th {\n",
       "        vertical-align: top;\n",
       "    }\n",
       "\n",
       "    .dataframe thead th {\n",
       "        text-align: right;\n",
       "    }\n",
       "</style>\n",
       "<table border=\"1\" class=\"dataframe\">\n",
       "  <thead>\n",
       "    <tr style=\"text-align: right;\">\n",
       "      <th></th>\n",
       "      <th>Id</th>\n",
       "      <th>MSSubClass</th>\n",
       "      <th>LotFrontage</th>\n",
       "      <th>LotArea</th>\n",
       "      <th>OverallQual</th>\n",
       "      <th>OverallCond</th>\n",
       "      <th>YearBuilt</th>\n",
       "      <th>YearRemodAdd</th>\n",
       "      <th>GarageCars</th>\n",
       "      <th>SalePrice</th>\n",
       "    </tr>\n",
       "  </thead>\n",
       "  <tbody>\n",
       "    <tr>\n",
       "      <th>count</th>\n",
       "      <td>99.000000</td>\n",
       "      <td>99.000000</td>\n",
       "      <td>99.000000</td>\n",
       "      <td>99.000000</td>\n",
       "      <td>99.000000</td>\n",
       "      <td>99.000000</td>\n",
       "      <td>99.000000</td>\n",
       "      <td>99.000000</td>\n",
       "      <td>99.000000</td>\n",
       "      <td>99.000000</td>\n",
       "    </tr>\n",
       "    <tr>\n",
       "      <th>mean</th>\n",
       "      <td>50.000000</td>\n",
       "      <td>52.323232</td>\n",
       "      <td>71.151515</td>\n",
       "      <td>10041.303030</td>\n",
       "      <td>5.959596</td>\n",
       "      <td>5.454545</td>\n",
       "      <td>1971.292929</td>\n",
       "      <td>1984.171717</td>\n",
       "      <td>1.767677</td>\n",
       "      <td>174273.898990</td>\n",
       "    </tr>\n",
       "    <tr>\n",
       "      <th>std</th>\n",
       "      <td>28.722813</td>\n",
       "      <td>42.638209</td>\n",
       "      <td>19.642397</td>\n",
       "      <td>5125.489093</td>\n",
       "      <td>1.477168</td>\n",
       "      <td>0.950539</td>\n",
       "      <td>28.688422</td>\n",
       "      <td>20.921642</td>\n",
       "      <td>0.739943</td>\n",
       "      <td>72461.117262</td>\n",
       "    </tr>\n",
       "    <tr>\n",
       "      <th>min</th>\n",
       "      <td>1.000000</td>\n",
       "      <td>20.000000</td>\n",
       "      <td>21.000000</td>\n",
       "      <td>1596.000000</td>\n",
       "      <td>3.000000</td>\n",
       "      <td>2.000000</td>\n",
       "      <td>1910.000000</td>\n",
       "      <td>1950.000000</td>\n",
       "      <td>0.000000</td>\n",
       "      <td>40000.000000</td>\n",
       "    </tr>\n",
       "    <tr>\n",
       "      <th>25%</th>\n",
       "      <td>25.500000</td>\n",
       "      <td>20.000000</td>\n",
       "      <td>60.000000</td>\n",
       "      <td>7628.500000</td>\n",
       "      <td>5.000000</td>\n",
       "      <td>5.000000</td>\n",
       "      <td>1956.000000</td>\n",
       "      <td>1965.000000</td>\n",
       "      <td>1.000000</td>\n",
       "      <td>129500.000000</td>\n",
       "    </tr>\n",
       "    <tr>\n",
       "      <th>50%</th>\n",
       "      <td>50.000000</td>\n",
       "      <td>45.000000</td>\n",
       "      <td>70.000000</td>\n",
       "      <td>9591.000000</td>\n",
       "      <td>6.000000</td>\n",
       "      <td>5.000000</td>\n",
       "      <td>1971.000000</td>\n",
       "      <td>1995.000000</td>\n",
       "      <td>2.000000</td>\n",
       "      <td>154000.000000</td>\n",
       "    </tr>\n",
       "    <tr>\n",
       "      <th>75%</th>\n",
       "      <td>74.500000</td>\n",
       "      <td>60.000000</td>\n",
       "      <td>80.500000</td>\n",
       "      <td>11148.000000</td>\n",
       "      <td>7.000000</td>\n",
       "      <td>6.000000</td>\n",
       "      <td>1998.500000</td>\n",
       "      <td>2003.500000</td>\n",
       "      <td>2.000000</td>\n",
       "      <td>208000.000000</td>\n",
       "    </tr>\n",
       "    <tr>\n",
       "      <th>max</th>\n",
       "      <td>99.000000</td>\n",
       "      <td>190.000000</td>\n",
       "      <td>122.000000</td>\n",
       "      <td>50271.000000</td>\n",
       "      <td>10.000000</td>\n",
       "      <td>8.000000</td>\n",
       "      <td>2009.000000</td>\n",
       "      <td>2009.000000</td>\n",
       "      <td>3.000000</td>\n",
       "      <td>438780.000000</td>\n",
       "    </tr>\n",
       "  </tbody>\n",
       "</table>\n",
       "</div>"
      ],
      "text/plain": [
       "              Id  MSSubClass  LotFrontage       LotArea  OverallQual  \\\n",
       "count  99.000000   99.000000    99.000000     99.000000    99.000000   \n",
       "mean   50.000000   52.323232    71.151515  10041.303030     5.959596   \n",
       "std    28.722813   42.638209    19.642397   5125.489093     1.477168   \n",
       "min     1.000000   20.000000    21.000000   1596.000000     3.000000   \n",
       "25%    25.500000   20.000000    60.000000   7628.500000     5.000000   \n",
       "50%    50.000000   45.000000    70.000000   9591.000000     6.000000   \n",
       "75%    74.500000   60.000000    80.500000  11148.000000     7.000000   \n",
       "max    99.000000  190.000000   122.000000  50271.000000    10.000000   \n",
       "\n",
       "       OverallCond    YearBuilt  YearRemodAdd  GarageCars      SalePrice  \n",
       "count    99.000000    99.000000     99.000000   99.000000      99.000000  \n",
       "mean      5.454545  1971.292929   1984.171717    1.767677  174273.898990  \n",
       "std       0.950539    28.688422     20.921642    0.739943   72461.117262  \n",
       "min       2.000000  1910.000000   1950.000000    0.000000   40000.000000  \n",
       "25%       5.000000  1956.000000   1965.000000    1.000000  129500.000000  \n",
       "50%       5.000000  1971.000000   1995.000000    2.000000  154000.000000  \n",
       "75%       6.000000  1998.500000   2003.500000    2.000000  208000.000000  \n",
       "max       8.000000  2009.000000   2009.000000    3.000000  438780.000000  "
      ]
     },
     "execution_count": 89,
     "metadata": {},
     "output_type": "execute_result"
    }
   ],
   "source": [
    "df.describe()"
   ]
  },
  {
   "cell_type": "markdown",
   "id": "02455c15",
   "metadata": {},
   "source": [
    "g) Extract the row with max SalePrice and the row with min SalePrice"
   ]
  },
  {
   "cell_type": "code",
   "execution_count": 90,
   "id": "39b9ad25",
   "metadata": {},
   "outputs": [
    {
     "name": "stdout",
     "output_type": "stream",
     "text": [
      "Row with max SalePrice:\n",
      "     Id  MSSubClass MSZoning  LotFrontage  LotArea Street Alley LotShape  \\\n",
      "58  59          60       RL         66.0  13682.0   Pave  Grvl      IR2   \n",
      "\n",
      "   LandContour Utilities LotConfig Neighborhood BldgType HouseStyle  \\\n",
      "58         HLS    AllPub   CulDSac      StoneBr     1Fam     2Story   \n",
      "\n",
      "    OverallQual  OverallCond  YearBuilt  YearRemodAdd  GarageCars  SalePrice  \n",
      "58         10.0          5.0     2006.0          2006           3     438780  \n",
      "Row with min SalePrice:\n",
      "     Id  MSSubClass MSZoning  LotFrontage  LotArea Street Alley LotShape  \\\n",
      "30  31          70  C (all)         50.0   8500.0   Pave  Pave      Reg   \n",
      "\n",
      "   LandContour Utilities LotConfig Neighborhood BldgType HouseStyle  \\\n",
      "30         Lvl    AllPub    Inside       IDOTRR     1Fam     2Story   \n",
      "\n",
      "    OverallQual  OverallCond  YearBuilt  YearRemodAdd  GarageCars  SalePrice  \n",
      "30          4.0          4.0     1920.0          1950           1      40000  \n"
     ]
    }
   ],
   "source": [
    "# Get the row with max SalePrice and the row with min SalePrice\n",
    "print(\"Row with max SalePrice:\\n\", df[df['SalePrice'] == df['SalePrice'].max()])\n",
    "print(\"Row with min SalePrice:\\n\",df[df['SalePrice'] == df['SalePrice'].min()])"
   ]
  },
  {
   "cell_type": "markdown",
   "id": "2ac2771c",
   "metadata": {},
   "source": [
    "h) Insert a new column called Overall, which is the average of OverallQual and OverallCond."
   ]
  },
  {
   "cell_type": "code",
   "execution_count": 94,
   "id": "e666bbee",
   "metadata": {},
   "outputs": [
    {
     "name": "stdout",
     "output_type": "stream",
     "text": [
      "    Id  MSSubClass MSZoning  LotFrontage  LotArea Street Alley LotShape  \\\n",
      "0    1          60       RL         65.0   8450.0   Pave  Grvl      Reg   \n",
      "1    2          20       RL         80.0   9600.0   Pave  Grvl      Reg   \n",
      "2    3          60       RL         68.0  11250.0   Pave  Grvl      IR1   \n",
      "3    4          70       RL         60.0   9550.0   Pave  Grvl      IR1   \n",
      "4    5          60       RL         84.0  14260.0   Pave  Grvl      IR1   \n",
      "..  ..         ...      ...          ...      ...    ...   ...      ...   \n",
      "94  95          60       RL         69.0   9337.0   Pave  Grvl      IR1   \n",
      "95  96          60       RL         70.0   9765.0   Pave  Grvl      IR2   \n",
      "96  97          20       RL         78.0  10264.0   Pave  Grvl      IR1   \n",
      "97  98          20       RL         73.0  10921.0   Pave  Grvl      Reg   \n",
      "98  99          30       RL         85.0  10625.0   Pave  Grvl      Reg   \n",
      "\n",
      "   LandContour Utilities LotConfig Neighborhood BldgType HouseStyle  \\\n",
      "0          Lvl    AllPub    Inside      CollgCr     1Fam     2Story   \n",
      "1          Lvl    AllPub    Inside      Veenker     1Fam     1Story   \n",
      "2          Lvl    AllPub    Inside      CollgCr     1Fam     2Story   \n",
      "3          Lvl    AllPub    Corner      Crawfor     1Fam     2Story   \n",
      "4          Lvl    AllPub       FR2      NoRidge     1Fam     2Story   \n",
      "..         ...       ...       ...          ...      ...        ...   \n",
      "94         Lvl    AllPub    Inside      CollgCr     1Fam     2Story   \n",
      "95         Lvl    AllPub    Corner      Gilbert     1Fam     2Story   \n",
      "96         Lvl    AllPub    Inside      CollgCr     1Fam     1Story   \n",
      "97         HLS    AllPub    Inside      Edwards     1Fam     1Story   \n",
      "98         Lvl    AllPub    Corner      Edwards     1Fam     1Story   \n",
      "\n",
      "    YearBuilt  YearRemodAdd  GarageCars  SalePrice  Overall  \n",
      "0      2003.0          2003           2     208500      6.0  \n",
      "1      1976.0          1976           2     181500      7.0  \n",
      "2      2001.0          2002           2     223500      6.0  \n",
      "3      1915.0          1970           3     140000      6.0  \n",
      "4      1971.0          2000           3     250000      6.5  \n",
      "..        ...           ...         ...        ...      ...  \n",
      "94     1997.0          1997           2     204750      5.5  \n",
      "95     1993.0          1993           2     185000      5.5  \n",
      "96     1999.0          1999           2     214000      6.0  \n",
      "97     1965.0          1965           1      94750      4.5  \n",
      "98     1920.0          1950           1      83000      5.0  \n",
      "\n",
      "[99 rows x 19 columns]\n"
     ]
    }
   ],
   "source": [
    "# Create a new column called Overall, which is the average of OverallQual and OverallCond\n",
    "df['Overall'] = (df['OverallQual'] + df['OverallCond']) / 2\n",
    "# Return the dataframe except for the OverallQual and OverallCond column\n",
    "print(df[df.columns.drop(['OverallQual', 'OverallCond'])])"
   ]
  },
  {
   "cell_type": "markdown",
   "id": "ce4e1983",
   "metadata": {},
   "source": [
    "i) Update the dataframe with SalePrice used as index and ID becomes a new column"
   ]
  },
  {
   "cell_type": "code",
   "execution_count": 99,
   "id": "f626b2de",
   "metadata": {},
   "outputs": [
    {
     "name": "stdout",
     "output_type": "stream",
     "text": [
      "           Id  MSSubClass MSZoning  LotFrontage  LotArea Street Alley  \\\n",
      "SalePrice                                                               \n",
      "208500      1          60       RL         65.0   8450.0   Pave  Grvl   \n",
      "181500      2          20       RL         80.0   9600.0   Pave  Grvl   \n",
      "223500      3          60       RL         68.0  11250.0   Pave  Grvl   \n",
      "140000      4          70       RL         60.0   9550.0   Pave  Grvl   \n",
      "250000      5          60       RL         84.0  14260.0   Pave  Grvl   \n",
      "...        ..         ...      ...          ...      ...    ...   ...   \n",
      "204750     95          60       RL         69.0   9337.0   Pave  Grvl   \n",
      "185000     96          60       RL         70.0   9765.0   Pave  Grvl   \n",
      "214000     97          20       RL         78.0  10264.0   Pave  Grvl   \n",
      "94750      98          20       RL         73.0  10921.0   Pave  Grvl   \n",
      "83000      99          30       RL         85.0  10625.0   Pave  Grvl   \n",
      "\n",
      "          LotShape LandContour Utilities LotConfig Neighborhood BldgType  \\\n",
      "SalePrice                                                                  \n",
      "208500         Reg         Lvl    AllPub    Inside      CollgCr     1Fam   \n",
      "181500         Reg         Lvl    AllPub    Inside      Veenker     1Fam   \n",
      "223500         IR1         Lvl    AllPub    Inside      CollgCr     1Fam   \n",
      "140000         IR1         Lvl    AllPub    Corner      Crawfor     1Fam   \n",
      "250000         IR1         Lvl    AllPub       FR2      NoRidge     1Fam   \n",
      "...            ...         ...       ...       ...          ...      ...   \n",
      "204750         IR1         Lvl    AllPub    Inside      CollgCr     1Fam   \n",
      "185000         IR2         Lvl    AllPub    Corner      Gilbert     1Fam   \n",
      "214000         IR1         Lvl    AllPub    Inside      CollgCr     1Fam   \n",
      "94750          Reg         HLS    AllPub    Inside      Edwards     1Fam   \n",
      "83000          Reg         Lvl    AllPub    Corner      Edwards     1Fam   \n",
      "\n",
      "          HouseStyle  OverallQual  OverallCond  YearBuilt  YearRemodAdd  \\\n",
      "SalePrice                                                                 \n",
      "208500        2Story          7.0          5.0     2003.0          2003   \n",
      "181500        1Story          6.0          8.0     1976.0          1976   \n",
      "223500        2Story          7.0          5.0     2001.0          2002   \n",
      "140000        2Story          7.0          5.0     1915.0          1970   \n",
      "250000        2Story          8.0          5.0     1971.0          2000   \n",
      "...              ...          ...          ...        ...           ...   \n",
      "204750        2Story          6.0          5.0     1997.0          1997   \n",
      "185000        2Story          6.0          5.0     1993.0          1993   \n",
      "214000        1Story          7.0          5.0     1999.0          1999   \n",
      "94750         1Story          4.0          5.0     1965.0          1965   \n",
      "83000         1Story          5.0          5.0     1920.0          1950   \n",
      "\n",
      "           GarageCars  Overall  \n",
      "SalePrice                       \n",
      "208500              2      6.0  \n",
      "181500              2      7.0  \n",
      "223500              2      6.0  \n",
      "140000              3      6.0  \n",
      "250000              3      6.5  \n",
      "...               ...      ...  \n",
      "204750              2      5.5  \n",
      "185000              2      5.5  \n",
      "214000              2      6.0  \n",
      "94750               1      4.5  \n",
      "83000               1      5.0  \n",
      "\n",
      "[99 rows x 20 columns]\n"
     ]
    }
   ],
   "source": [
    "df.set_index('SalePrice', inplace=True)\n",
    "print(df)"
   ]
  },
  {
   "cell_type": "markdown",
   "id": "7e351bc6",
   "metadata": {},
   "source": [
    "Check with df.columns"
   ]
  },
  {
   "cell_type": "code",
   "execution_count": 100,
   "id": "0603492b",
   "metadata": {},
   "outputs": [
    {
     "name": "stdout",
     "output_type": "stream",
     "text": [
      "Index(['Id', 'MSSubClass', 'MSZoning', 'LotFrontage', 'LotArea', 'Street',\n",
      "       'Alley', 'LotShape', 'LandContour', 'Utilities', 'LotConfig',\n",
      "       'Neighborhood', 'BldgType', 'HouseStyle', 'OverallQual', 'OverallCond',\n",
      "       'YearBuilt', 'YearRemodAdd', 'GarageCars', 'Overall'],\n",
      "      dtype='object')\n"
     ]
    }
   ],
   "source": [
    "print(df.columns)"
   ]
  }
 ],
 "metadata": {
  "kernelspec": {
   "display_name": ".venv (3.13.7)",
   "language": "python",
   "name": "python3"
  },
  "language_info": {
   "codemirror_mode": {
    "name": "ipython",
    "version": 3
   },
   "file_extension": ".py",
   "mimetype": "text/x-python",
   "name": "python",
   "nbconvert_exporter": "python",
   "pygments_lexer": "ipython3",
   "version": "3.13.7"
  }
 },
 "nbformat": 4,
 "nbformat_minor": 5
}
