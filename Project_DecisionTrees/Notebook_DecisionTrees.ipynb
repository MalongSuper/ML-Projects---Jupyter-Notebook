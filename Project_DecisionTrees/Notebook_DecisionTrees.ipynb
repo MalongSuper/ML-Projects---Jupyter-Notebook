{
 "cells": [
  {
   "cell_type": "markdown",
   "id": "c9f83a13",
   "metadata": {},
   "source": [
    "### Decision Trees (Calculate Entropy & Information Gain)"
   ]
  },
  {
   "cell_type": "code",
   "execution_count": 1,
   "id": "68a813be",
   "metadata": {},
   "outputs": [],
   "source": [
    "import pandas as pd\n",
    "from math import log2"
   ]
  },
  {
   "cell_type": "code",
   "execution_count": 2,
   "id": "e789fbf5",
   "metadata": {},
   "outputs": [
    {
     "data": {
      "application/vnd.microsoft.datawrangler.viewer.v0+json": {
       "columns": [
        {
         "name": "index",
         "rawType": "int64",
         "type": "integer"
        },
        {
         "name": "Outlook",
         "rawType": "object",
         "type": "string"
        },
        {
         "name": "Temp",
         "rawType": "object",
         "type": "string"
        },
        {
         "name": "Humidity",
         "rawType": "object",
         "type": "string"
        },
        {
         "name": "Wind",
         "rawType": "object",
         "type": "string"
        },
        {
         "name": "Play_Tennis",
         "rawType": "object",
         "type": "string"
        }
       ],
       "ref": "00556c7c-8459-4258-8cc9-5c221b978146",
       "rows": [
        [
         "0",
         "Sunny",
         "Hot",
         "High",
         "Weak",
         "No"
        ],
        [
         "1",
         "Sunny",
         "Hot",
         "High",
         "Strong",
         "No"
        ],
        [
         "2",
         "Overcast",
         "Hot",
         "High",
         "Weak",
         "Yes"
        ],
        [
         "3",
         "Rain",
         "Mild",
         "High",
         "Weak",
         "Yes"
        ],
        [
         "4",
         "Rain",
         "Cool",
         "Normal",
         "Weak",
         "Yes"
        ],
        [
         "5",
         "Rain",
         "Cool",
         "Normal",
         "Strong",
         "No"
        ],
        [
         "6",
         "Overcast",
         "Cool",
         "Normal",
         "Weak",
         "Yes"
        ]
       ],
       "shape": {
        "columns": 5,
        "rows": 7
       }
      },
      "text/html": [
       "<div>\n",
       "<style scoped>\n",
       "    .dataframe tbody tr th:only-of-type {\n",
       "        vertical-align: middle;\n",
       "    }\n",
       "\n",
       "    .dataframe tbody tr th {\n",
       "        vertical-align: top;\n",
       "    }\n",
       "\n",
       "    .dataframe thead th {\n",
       "        text-align: right;\n",
       "    }\n",
       "</style>\n",
       "<table border=\"1\" class=\"dataframe\">\n",
       "  <thead>\n",
       "    <tr style=\"text-align: right;\">\n",
       "      <th></th>\n",
       "      <th>Outlook</th>\n",
       "      <th>Temp</th>\n",
       "      <th>Humidity</th>\n",
       "      <th>Wind</th>\n",
       "      <th>Play_Tennis</th>\n",
       "    </tr>\n",
       "  </thead>\n",
       "  <tbody>\n",
       "    <tr>\n",
       "      <th>0</th>\n",
       "      <td>Sunny</td>\n",
       "      <td>Hot</td>\n",
       "      <td>High</td>\n",
       "      <td>Weak</td>\n",
       "      <td>No</td>\n",
       "    </tr>\n",
       "    <tr>\n",
       "      <th>1</th>\n",
       "      <td>Sunny</td>\n",
       "      <td>Hot</td>\n",
       "      <td>High</td>\n",
       "      <td>Strong</td>\n",
       "      <td>No</td>\n",
       "    </tr>\n",
       "    <tr>\n",
       "      <th>2</th>\n",
       "      <td>Overcast</td>\n",
       "      <td>Hot</td>\n",
       "      <td>High</td>\n",
       "      <td>Weak</td>\n",
       "      <td>Yes</td>\n",
       "    </tr>\n",
       "    <tr>\n",
       "      <th>3</th>\n",
       "      <td>Rain</td>\n",
       "      <td>Mild</td>\n",
       "      <td>High</td>\n",
       "      <td>Weak</td>\n",
       "      <td>Yes</td>\n",
       "    </tr>\n",
       "    <tr>\n",
       "      <th>4</th>\n",
       "      <td>Rain</td>\n",
       "      <td>Cool</td>\n",
       "      <td>Normal</td>\n",
       "      <td>Weak</td>\n",
       "      <td>Yes</td>\n",
       "    </tr>\n",
       "    <tr>\n",
       "      <th>5</th>\n",
       "      <td>Rain</td>\n",
       "      <td>Cool</td>\n",
       "      <td>Normal</td>\n",
       "      <td>Strong</td>\n",
       "      <td>No</td>\n",
       "    </tr>\n",
       "    <tr>\n",
       "      <th>6</th>\n",
       "      <td>Overcast</td>\n",
       "      <td>Cool</td>\n",
       "      <td>Normal</td>\n",
       "      <td>Weak</td>\n",
       "      <td>Yes</td>\n",
       "    </tr>\n",
       "  </tbody>\n",
       "</table>\n",
       "</div>"
      ],
      "text/plain": [
       "    Outlook  Temp Humidity    Wind Play_Tennis\n",
       "0     Sunny   Hot     High    Weak          No\n",
       "1     Sunny   Hot     High  Strong          No\n",
       "2  Overcast   Hot     High    Weak         Yes\n",
       "3      Rain  Mild     High    Weak         Yes\n",
       "4      Rain  Cool   Normal    Weak         Yes\n",
       "5      Rain  Cool   Normal  Strong          No\n",
       "6  Overcast  Cool   Normal    Weak         Yes"
      ]
     },
     "execution_count": 2,
     "metadata": {},
     "output_type": "execute_result"
    }
   ],
   "source": [
    "data = {'Outlook': ['Sunny', 'Sunny', 'Overcast', 'Rain', 'Rain', 'Rain', 'Overcast'],\n",
    "        'Temp': ['Hot', 'Hot', 'Hot', 'Mild', 'Cool', 'Cool', 'Cool'], \n",
    "        'Humidity': ['High', 'High', 'High', 'High', 'Normal', 'Normal', 'Normal'], \n",
    "        'Wind': ['Weak', 'Strong', 'Weak', 'Weak', 'Weak', 'Strong', 'Weak'], \n",
    "        'Play_Tennis': ['No', 'No', 'Yes', 'Yes', 'Yes', 'No', 'Yes']}\n",
    "\n",
    "df = pd.DataFrame(data)\n",
    "\n",
    "df"
   ]
  },
  {
   "cell_type": "markdown",
   "id": "bbf8d08f",
   "metadata": {},
   "source": [
    "Apply Mapping"
   ]
  },
  {
   "cell_type": "code",
   "execution_count": 3,
   "id": "4b79e0dd",
   "metadata": {},
   "outputs": [
    {
     "data": {
      "application/vnd.microsoft.datawrangler.viewer.v0+json": {
       "columns": [
        {
         "name": "index",
         "rawType": "int64",
         "type": "integer"
        },
        {
         "name": "Outlook",
         "rawType": "int64",
         "type": "integer"
        },
        {
         "name": "Temp",
         "rawType": "int64",
         "type": "integer"
        },
        {
         "name": "Humidity",
         "rawType": "int64",
         "type": "integer"
        },
        {
         "name": "Wind",
         "rawType": "int64",
         "type": "integer"
        },
        {
         "name": "Play_Tennis",
         "rawType": "int64",
         "type": "integer"
        }
       ],
       "ref": "3e97e900-afde-4207-813e-40f89255c0a8",
       "rows": [
        [
         "0",
         "0",
         "0",
         "0",
         "0",
         "0"
        ],
        [
         "1",
         "0",
         "0",
         "0",
         "1",
         "0"
        ],
        [
         "2",
         "1",
         "0",
         "0",
         "0",
         "1"
        ],
        [
         "3",
         "2",
         "1",
         "0",
         "0",
         "1"
        ],
        [
         "4",
         "2",
         "2",
         "1",
         "0",
         "1"
        ],
        [
         "5",
         "2",
         "2",
         "1",
         "1",
         "0"
        ],
        [
         "6",
         "1",
         "2",
         "1",
         "0",
         "1"
        ]
       ],
       "shape": {
        "columns": 5,
        "rows": 7
       }
      },
      "text/html": [
       "<div>\n",
       "<style scoped>\n",
       "    .dataframe tbody tr th:only-of-type {\n",
       "        vertical-align: middle;\n",
       "    }\n",
       "\n",
       "    .dataframe tbody tr th {\n",
       "        vertical-align: top;\n",
       "    }\n",
       "\n",
       "    .dataframe thead th {\n",
       "        text-align: right;\n",
       "    }\n",
       "</style>\n",
       "<table border=\"1\" class=\"dataframe\">\n",
       "  <thead>\n",
       "    <tr style=\"text-align: right;\">\n",
       "      <th></th>\n",
       "      <th>Outlook</th>\n",
       "      <th>Temp</th>\n",
       "      <th>Humidity</th>\n",
       "      <th>Wind</th>\n",
       "      <th>Play_Tennis</th>\n",
       "    </tr>\n",
       "  </thead>\n",
       "  <tbody>\n",
       "    <tr>\n",
       "      <th>0</th>\n",
       "      <td>0</td>\n",
       "      <td>0</td>\n",
       "      <td>0</td>\n",
       "      <td>0</td>\n",
       "      <td>0</td>\n",
       "    </tr>\n",
       "    <tr>\n",
       "      <th>1</th>\n",
       "      <td>0</td>\n",
       "      <td>0</td>\n",
       "      <td>0</td>\n",
       "      <td>1</td>\n",
       "      <td>0</td>\n",
       "    </tr>\n",
       "    <tr>\n",
       "      <th>2</th>\n",
       "      <td>1</td>\n",
       "      <td>0</td>\n",
       "      <td>0</td>\n",
       "      <td>0</td>\n",
       "      <td>1</td>\n",
       "    </tr>\n",
       "    <tr>\n",
       "      <th>3</th>\n",
       "      <td>2</td>\n",
       "      <td>1</td>\n",
       "      <td>0</td>\n",
       "      <td>0</td>\n",
       "      <td>1</td>\n",
       "    </tr>\n",
       "    <tr>\n",
       "      <th>4</th>\n",
       "      <td>2</td>\n",
       "      <td>2</td>\n",
       "      <td>1</td>\n",
       "      <td>0</td>\n",
       "      <td>1</td>\n",
       "    </tr>\n",
       "    <tr>\n",
       "      <th>5</th>\n",
       "      <td>2</td>\n",
       "      <td>2</td>\n",
       "      <td>1</td>\n",
       "      <td>1</td>\n",
       "      <td>0</td>\n",
       "    </tr>\n",
       "    <tr>\n",
       "      <th>6</th>\n",
       "      <td>1</td>\n",
       "      <td>2</td>\n",
       "      <td>1</td>\n",
       "      <td>0</td>\n",
       "      <td>1</td>\n",
       "    </tr>\n",
       "  </tbody>\n",
       "</table>\n",
       "</div>"
      ],
      "text/plain": [
       "   Outlook  Temp  Humidity  Wind  Play_Tennis\n",
       "0        0     0         0     0            0\n",
       "1        0     0         0     1            0\n",
       "2        1     0         0     0            1\n",
       "3        2     1         0     0            1\n",
       "4        2     2         1     0            1\n",
       "5        2     2         1     1            0\n",
       "6        1     2         1     0            1"
      ]
     },
     "execution_count": 3,
     "metadata": {},
     "output_type": "execute_result"
    }
   ],
   "source": [
    "for i in range(len(df.columns)):\n",
    "    unique_columns = df[df.columns[i]].unique()\n",
    "    df[df.columns[i]] = df[df.columns[i]].map({unique_columns[value]: value for value in range(len(unique_columns))})\n",
    "\n",
    "df"
   ]
  },
  {
   "cell_type": "markdown",
   "id": "14d53d5f",
   "metadata": {},
   "source": [
    "Get features and target"
   ]
  },
  {
   "cell_type": "code",
   "execution_count": 4,
   "id": "1523f4f7",
   "metadata": {},
   "outputs": [],
   "source": [
    "target = 'Play_Tennis'\n",
    "features = df.drop(columns=target).columns\n",
    "x = df[features]\n",
    "y = df[target]"
   ]
  },
  {
   "cell_type": "markdown",
   "id": "6e40afbb",
   "metadata": {},
   "source": [
    "Entropy of the Outcome -> E(S)"
   ]
  },
  {
   "cell_type": "code",
   "execution_count": 5,
   "id": "65d2b88b",
   "metadata": {},
   "outputs": [],
   "source": [
    "from math import log2\n",
    "\n",
    "def entropy_target(target):\n",
    "    p_list = []\n",
    "    n = target.unique()  # Number of unique outcomes\n",
    "    for i in range(len(n)):  \n",
    "        # Calculate the p(class) of the outcome\n",
    "        p = (target.value_counts().get(n[i], 0)) / (len(target))\n",
    "        # print(f\"P(Target = {target.name} -> Outcome {n[i]}): {p}\")\n",
    "        p_list.append(p) \n",
    "    # Apply the formula (add p > 0 to handle entropy = 0)\n",
    "    entropy = sum(- p * log2(p) for p in p_list if p > 0)\n",
    "    # print(f\"E(Target = {target.name}): {entropy}\")\n",
    "\n",
    "    return entropy\n",
    "\n",
    "e_target = entropy_target(y)"
   ]
  },
  {
   "cell_type": "markdown",
   "id": "9ed8fa22",
   "metadata": {},
   "source": [
    "Entropy of Feature"
   ]
  },
  {
   "cell_type": "code",
   "execution_count": 6,
   "id": "e35d5235",
   "metadata": {},
   "outputs": [
    {
     "data": {
      "text/plain": [
       "[np.float64(0.9182958340544896),\n",
       " np.float64(0.0),\n",
       " np.float64(0.9182958340544896)]"
      ]
     },
     "execution_count": 6,
     "metadata": {},
     "output_type": "execute_result"
    }
   ],
   "source": [
    "def entropy_feature(feature, target):\n",
    "    df_combined = pd.concat([feature, target], axis=1)\n",
    "    entropy_list = []\n",
    "    n_feature = feature.unique()  # Number of unique classes\n",
    "    n_target = target.unique()  # Number of unique outcomes\n",
    "    # print(\"Feature =\", feature.name)\n",
    "    for i in range(len(n_feature)):\n",
    "        p_list = []\n",
    "        for j in range(len(n_target)):\n",
    "            # Total number of samples for the class\n",
    "            num_class = feature.value_counts().get(n_feature[i], 0)\n",
    "            # Count the outcome for the current class, get the sub-dataset\n",
    "            sub_df = df_combined[(df_combined[feature.name] == n_feature[i]) \n",
    "                                 & (df_combined[target.name] == n_target[j])]\n",
    "            # Find the probability\n",
    "            p = len(sub_df) / num_class if num_class != 0 else 0\n",
    "            # print(f\"+ P({n_feature[i]} -> Outcome = {n_target[j]}): {p}\")\n",
    "            p_list.append(p)\n",
    "        # Compute the entropy\n",
    "        entropy = sum(-p * log2(p) for p in p_list if p > 0)\n",
    "        # print(f\"- Entropy(Feature Class = {n_feature[i]}): {entropy}\")\n",
    "        # Append to list\n",
    "        entropy_list.append(entropy)\n",
    "\n",
    "    return entropy_list\n",
    "\n",
    "# Take one feature for showcase\n",
    "entropy_feature(x['Temp'], y)"
   ]
  },
  {
   "cell_type": "markdown",
   "id": "f4b905f9",
   "metadata": {},
   "source": [
    "Calculate the Weight Average"
   ]
  },
  {
   "cell_type": "code",
   "execution_count": 10,
   "id": "e996f8b0",
   "metadata": {},
   "outputs": [
    {
     "name": "stdout",
     "output_type": "stream",
     "text": [
      "Weight(Feature = Outlook): 0.39355535745192405\n",
      "Weight(Feature = Temp): 0.7871107149038481\n",
      "Weight(Feature = Humidity): 0.9649839288804954\n",
      "Weight(Feature = Wind): 0.5156629249195446\n"
     ]
    }
   ],
   "source": [
    "e_target = entropy_target(y)\n",
    "weight_average = []\n",
    "for i in range(len(x.columns)):\n",
    "    unique_class = [x[x.columns[i]].value_counts().get(j, 0) for j in  x[x.columns[i]].unique()]\n",
    "    entropy = entropy_feature(x[x.columns[i]], y)\n",
    "    # Weight Average\n",
    "    weight = sum((unique_class[j] / len(x)) * entropy[j] for j in range(len(unique_class)))\n",
    "    print(f\"Weight(Feature = {x.columns[i]}):\", weight)\n",
    "    weight_average.append(weight)"
   ]
  },
  {
   "cell_type": "markdown",
   "id": "463825ba",
   "metadata": {},
   "source": [
    "Information Gain"
   ]
  },
  {
   "cell_type": "code",
   "execution_count": 11,
   "id": "ba14c073",
   "metadata": {},
   "outputs": [
    {
     "name": "stdout",
     "output_type": "stream",
     "text": [
      "Information Gain(Feature = Outlook): 0.5916727785823275\n",
      "Information Gain(Feature = Temp): 0.19811742113040343\n",
      "Information Gain(Feature = Humidity): 0.020244207153756077\n",
      "Information Gain(Feature = Wind): 0.46956521111470695\n"
     ]
    }
   ],
   "source": [
    "information_gain = []\n",
    "for i in range(len(x.columns)):\n",
    "    ig = e_target - weight_average[i]\n",
    "    print(f\"Information Gain(Feature = {x.columns[i]}):\", ig)\n",
    "    information_gain.append(ig)"
   ]
  },
  {
   "cell_type": "markdown",
   "id": "6fa0ede7",
   "metadata": {},
   "source": [
    "Get the best feature for Decision Tree"
   ]
  },
  {
   "cell_type": "code",
   "execution_count": 12,
   "id": "5a054ae5",
   "metadata": {},
   "outputs": [
    {
     "name": "stdout",
     "output_type": "stream",
     "text": [
      "Best feature: Outlook\n"
     ]
    }
   ],
   "source": [
    "for i in range(len(information_gain)):\n",
    "    if information_gain.index(max(information_gain)) == i:\n",
    "        print(\"Best feature:\", x.columns[i])"
   ]
  }
 ],
 "metadata": {
  "kernelspec": {
   "display_name": ".venv (3.13.7)",
   "language": "python",
   "name": "python3"
  },
  "language_info": {
   "codemirror_mode": {
    "name": "ipython",
    "version": 3
   },
   "file_extension": ".py",
   "mimetype": "text/x-python",
   "name": "python",
   "nbconvert_exporter": "python",
   "pygments_lexer": "ipython3",
   "version": "3.13.7"
  }
 },
 "nbformat": 4,
 "nbformat_minor": 5
}
