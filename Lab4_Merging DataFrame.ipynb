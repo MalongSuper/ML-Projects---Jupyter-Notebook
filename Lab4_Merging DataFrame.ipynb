{
 "cells": [
  {
   "cell_type": "markdown",
   "id": "90e6d419",
   "metadata": {},
   "source": [
    "### Data Analytics: Lab 5"
   ]
  },
  {
   "cell_type": "code",
   "execution_count": 3,
   "id": "d42a9eb5",
   "metadata": {},
   "outputs": [],
   "source": [
    "import pandas as pd"
   ]
  },
  {
   "cell_type": "markdown",
   "id": "ed8fe7b9",
   "metadata": {},
   "source": [
    "1) Write Python code to create the 3 dfs above."
   ]
  },
  {
   "cell_type": "markdown",
   "id": "edda56b2",
   "metadata": {},
   "source": [
    "Hint: df = pd.DataFrame(data) where data is a dictionary with keys = column names, values = list of data in the corresponding columns"
   ]
  },
  {
   "cell_type": "code",
   "execution_count": 4,
   "id": "c2ff71de",
   "metadata": {},
   "outputs": [
    {
     "data": {
      "application/vnd.microsoft.datawrangler.viewer.v0+json": {
       "columns": [
        {
         "name": "index",
         "rawType": "int64",
         "type": "integer"
        },
        {
         "name": "Player",
         "rawType": "object",
         "type": "string"
        },
        {
         "name": "Team",
         "rawType": "object",
         "type": "string"
        },
        {
         "name": "Goals",
         "rawType": "int64",
         "type": "integer"
        },
        {
         "name": "Assists",
         "rawType": "int64",
         "type": "integer"
        }
       ],
       "ref": "ee28ac8c-461b-4188-9ded-dd6cad1c46a4",
       "rows": [
        [
         "0",
         "Milner",
         "Liverpool",
         "2",
         "12"
        ],
        [
         "1",
         "Coutinho",
         "Liverpool",
         "5",
         "4"
        ],
        [
         "2",
         "Kane",
         "Tottenham",
         "10",
         "4"
        ],
        [
         "3",
         "Son",
         "Tottenham",
         "6",
         "10"
        ],
        [
         "4",
         "Rooney",
         "Everton",
         "4",
         "7"
        ],
        [
         "5",
         "Baines",
         "Everton",
         "1",
         "1"
        ],
        [
         "6",
         "Hazard",
         "Chelsea",
         "7",
         "8"
        ]
       ],
       "shape": {
        "columns": 4,
        "rows": 7
       }
      },
      "text/html": [
       "<div>\n",
       "<style scoped>\n",
       "    .dataframe tbody tr th:only-of-type {\n",
       "        vertical-align: middle;\n",
       "    }\n",
       "\n",
       "    .dataframe tbody tr th {\n",
       "        vertical-align: top;\n",
       "    }\n",
       "\n",
       "    .dataframe thead th {\n",
       "        text-align: right;\n",
       "    }\n",
       "</style>\n",
       "<table border=\"1\" class=\"dataframe\">\n",
       "  <thead>\n",
       "    <tr style=\"text-align: right;\">\n",
       "      <th></th>\n",
       "      <th>Player</th>\n",
       "      <th>Team</th>\n",
       "      <th>Goals</th>\n",
       "      <th>Assists</th>\n",
       "    </tr>\n",
       "  </thead>\n",
       "  <tbody>\n",
       "    <tr>\n",
       "      <th>0</th>\n",
       "      <td>Milner</td>\n",
       "      <td>Liverpool</td>\n",
       "      <td>2</td>\n",
       "      <td>12</td>\n",
       "    </tr>\n",
       "    <tr>\n",
       "      <th>1</th>\n",
       "      <td>Coutinho</td>\n",
       "      <td>Liverpool</td>\n",
       "      <td>5</td>\n",
       "      <td>4</td>\n",
       "    </tr>\n",
       "    <tr>\n",
       "      <th>2</th>\n",
       "      <td>Kane</td>\n",
       "      <td>Tottenham</td>\n",
       "      <td>10</td>\n",
       "      <td>4</td>\n",
       "    </tr>\n",
       "    <tr>\n",
       "      <th>3</th>\n",
       "      <td>Son</td>\n",
       "      <td>Tottenham</td>\n",
       "      <td>6</td>\n",
       "      <td>10</td>\n",
       "    </tr>\n",
       "    <tr>\n",
       "      <th>4</th>\n",
       "      <td>Rooney</td>\n",
       "      <td>Everton</td>\n",
       "      <td>4</td>\n",
       "      <td>7</td>\n",
       "    </tr>\n",
       "    <tr>\n",
       "      <th>5</th>\n",
       "      <td>Baines</td>\n",
       "      <td>Everton</td>\n",
       "      <td>1</td>\n",
       "      <td>1</td>\n",
       "    </tr>\n",
       "    <tr>\n",
       "      <th>6</th>\n",
       "      <td>Hazard</td>\n",
       "      <td>Chelsea</td>\n",
       "      <td>7</td>\n",
       "      <td>8</td>\n",
       "    </tr>\n",
       "  </tbody>\n",
       "</table>\n",
       "</div>"
      ],
      "text/plain": [
       "     Player       Team  Goals  Assists\n",
       "0    Milner  Liverpool      2       12\n",
       "1  Coutinho  Liverpool      5        4\n",
       "2      Kane  Tottenham     10        4\n",
       "3       Son  Tottenham      6       10\n",
       "4    Rooney    Everton      4        7\n",
       "5    Baines    Everton      1        1\n",
       "6    Hazard    Chelsea      7        8"
      ]
     },
     "execution_count": 4,
     "metadata": {},
     "output_type": "execute_result"
    }
   ],
   "source": [
    "data_players = {'Player': ['Milner', 'Coutinho', 'Kane', 'Son', 'Rooney', 'Baines', 'Hazard'],\n",
    "                'Team': ['Liverpool', 'Liverpool', 'Tottenham', 'Tottenham', 'Everton', 'Everton', 'Chelsea'],\n",
    "                'Goals': [2, 5, 10, 6, 4, 1, 7],\n",
    "                'Assists': [12, 4, 4, 10, 7, 1, 8]}\n",
    "data_teams = {'Team': ['Liverpool', 'Tottenham', 'Everton', 'Chelsea'],\n",
    "              'Home_City': ['Liverpool', 'London', 'Liverpool', 'London'],\n",
    "              'Num_Fans': [0.2, 2.3, 0.1, 5.1]}\n",
    "data_city = {'City': ['London', 'Liverpool'],\n",
    "             'Population': [9.0, 0.5]}\n",
    "\n",
    "df_players = pd.DataFrame(data_players)\n",
    "df_teams = pd.DataFrame(data_teams)\n",
    "df_city = pd.DataFrame(data_city)\n",
    "\n",
    "df_players"
   ]
  },
  {
   "cell_type": "code",
   "execution_count": 5,
   "id": "bbfdc4de",
   "metadata": {},
   "outputs": [
    {
     "data": {
      "application/vnd.microsoft.datawrangler.viewer.v0+json": {
       "columns": [
        {
         "name": "index",
         "rawType": "int64",
         "type": "integer"
        },
        {
         "name": "Team",
         "rawType": "object",
         "type": "string"
        },
        {
         "name": "Home_City",
         "rawType": "object",
         "type": "string"
        },
        {
         "name": "Num_Fans",
         "rawType": "float64",
         "type": "float"
        }
       ],
       "ref": "cd3a58e3-c796-4824-b1cc-16703ba3410f",
       "rows": [
        [
         "0",
         "Liverpool",
         "Liverpool",
         "0.2"
        ],
        [
         "1",
         "Tottenham",
         "London",
         "2.3"
        ],
        [
         "2",
         "Everton",
         "Liverpool",
         "0.1"
        ],
        [
         "3",
         "Chelsea",
         "London",
         "5.1"
        ]
       ],
       "shape": {
        "columns": 3,
        "rows": 4
       }
      },
      "text/html": [
       "<div>\n",
       "<style scoped>\n",
       "    .dataframe tbody tr th:only-of-type {\n",
       "        vertical-align: middle;\n",
       "    }\n",
       "\n",
       "    .dataframe tbody tr th {\n",
       "        vertical-align: top;\n",
       "    }\n",
       "\n",
       "    .dataframe thead th {\n",
       "        text-align: right;\n",
       "    }\n",
       "</style>\n",
       "<table border=\"1\" class=\"dataframe\">\n",
       "  <thead>\n",
       "    <tr style=\"text-align: right;\">\n",
       "      <th></th>\n",
       "      <th>Team</th>\n",
       "      <th>Home_City</th>\n",
       "      <th>Num_Fans</th>\n",
       "    </tr>\n",
       "  </thead>\n",
       "  <tbody>\n",
       "    <tr>\n",
       "      <th>0</th>\n",
       "      <td>Liverpool</td>\n",
       "      <td>Liverpool</td>\n",
       "      <td>0.2</td>\n",
       "    </tr>\n",
       "    <tr>\n",
       "      <th>1</th>\n",
       "      <td>Tottenham</td>\n",
       "      <td>London</td>\n",
       "      <td>2.3</td>\n",
       "    </tr>\n",
       "    <tr>\n",
       "      <th>2</th>\n",
       "      <td>Everton</td>\n",
       "      <td>Liverpool</td>\n",
       "      <td>0.1</td>\n",
       "    </tr>\n",
       "    <tr>\n",
       "      <th>3</th>\n",
       "      <td>Chelsea</td>\n",
       "      <td>London</td>\n",
       "      <td>5.1</td>\n",
       "    </tr>\n",
       "  </tbody>\n",
       "</table>\n",
       "</div>"
      ],
      "text/plain": [
       "        Team  Home_City  Num_Fans\n",
       "0  Liverpool  Liverpool       0.2\n",
       "1  Tottenham     London       2.3\n",
       "2    Everton  Liverpool       0.1\n",
       "3    Chelsea     London       5.1"
      ]
     },
     "execution_count": 5,
     "metadata": {},
     "output_type": "execute_result"
    }
   ],
   "source": [
    "df_teams"
   ]
  },
  {
   "cell_type": "code",
   "execution_count": 6,
   "id": "ad3e9888",
   "metadata": {},
   "outputs": [
    {
     "data": {
      "application/vnd.microsoft.datawrangler.viewer.v0+json": {
       "columns": [
        {
         "name": "index",
         "rawType": "int64",
         "type": "integer"
        },
        {
         "name": "City",
         "rawType": "object",
         "type": "string"
        },
        {
         "name": "Population",
         "rawType": "float64",
         "type": "float"
        }
       ],
       "ref": "6b8194a9-8fff-4cda-8d14-40b7abb01cc6",
       "rows": [
        [
         "0",
         "London",
         "9.0"
        ],
        [
         "1",
         "Liverpool",
         "0.5"
        ]
       ],
       "shape": {
        "columns": 2,
        "rows": 2
       }
      },
      "text/html": [
       "<div>\n",
       "<style scoped>\n",
       "    .dataframe tbody tr th:only-of-type {\n",
       "        vertical-align: middle;\n",
       "    }\n",
       "\n",
       "    .dataframe tbody tr th {\n",
       "        vertical-align: top;\n",
       "    }\n",
       "\n",
       "    .dataframe thead th {\n",
       "        text-align: right;\n",
       "    }\n",
       "</style>\n",
       "<table border=\"1\" class=\"dataframe\">\n",
       "  <thead>\n",
       "    <tr style=\"text-align: right;\">\n",
       "      <th></th>\n",
       "      <th>City</th>\n",
       "      <th>Population</th>\n",
       "    </tr>\n",
       "  </thead>\n",
       "  <tbody>\n",
       "    <tr>\n",
       "      <th>0</th>\n",
       "      <td>London</td>\n",
       "      <td>9.0</td>\n",
       "    </tr>\n",
       "    <tr>\n",
       "      <th>1</th>\n",
       "      <td>Liverpool</td>\n",
       "      <td>0.5</td>\n",
       "    </tr>\n",
       "  </tbody>\n",
       "</table>\n",
       "</div>"
      ],
      "text/plain": [
       "        City  Population\n",
       "0     London         9.0\n",
       "1  Liverpool         0.5"
      ]
     },
     "execution_count": 6,
     "metadata": {},
     "output_type": "execute_result"
    }
   ],
   "source": [
    "df_city"
   ]
  },
  {
   "cell_type": "markdown",
   "id": "dee89222",
   "metadata": {},
   "source": [
    "2) Merge the 3 dfs (called df_merged) using only 1 line of code. Hint: pd.merge(pd.merge(… ))"
   ]
  },
  {
   "cell_type": "code",
   "execution_count": 38,
   "id": "e88ad976",
   "metadata": {},
   "outputs": [
    {
     "data": {
      "application/vnd.microsoft.datawrangler.viewer.v0+json": {
       "columns": [
        {
         "name": "index",
         "rawType": "int64",
         "type": "integer"
        },
        {
         "name": "Team",
         "rawType": "object",
         "type": "string"
        },
        {
         "name": "Player",
         "rawType": "object",
         "type": "string"
        },
        {
         "name": "Goals",
         "rawType": "int64",
         "type": "integer"
        },
        {
         "name": "Assists",
         "rawType": "int64",
         "type": "integer"
        },
        {
         "name": "Home_City",
         "rawType": "object",
         "type": "string"
        },
        {
         "name": "Num_Fans",
         "rawType": "float64",
         "type": "float"
        },
        {
         "name": "City",
         "rawType": "object",
         "type": "string"
        },
        {
         "name": "Population",
         "rawType": "float64",
         "type": "float"
        }
       ],
       "ref": "a3ff1848-2413-4433-8374-9d7451e3acdc",
       "rows": [
        [
         "0",
         "Liverpool",
         "Milner",
         "2",
         "12",
         "Liverpool",
         "0.2",
         "Liverpool",
         "0.5"
        ],
        [
         "1",
         "Liverpool",
         "Coutinho",
         "5",
         "4",
         "Liverpool",
         "0.2",
         "Liverpool",
         "0.5"
        ],
        [
         "2",
         "Tottenham",
         "Kane",
         "10",
         "4",
         "London",
         "2.3",
         "London",
         "9.0"
        ],
        [
         "3",
         "Tottenham",
         "Son",
         "6",
         "10",
         "London",
         "2.3",
         "London",
         "9.0"
        ],
        [
         "4",
         "Everton",
         "Rooney",
         "4",
         "7",
         "Liverpool",
         "0.1",
         "Liverpool",
         "0.5"
        ],
        [
         "5",
         "Everton",
         "Baines",
         "1",
         "1",
         "Liverpool",
         "0.1",
         "Liverpool",
         "0.5"
        ],
        [
         "6",
         "Chelsea",
         "Hazard",
         "7",
         "8",
         "London",
         "5.1",
         "London",
         "9.0"
        ]
       ],
       "shape": {
        "columns": 8,
        "rows": 7
       }
      },
      "text/html": [
       "<div>\n",
       "<style scoped>\n",
       "    .dataframe tbody tr th:only-of-type {\n",
       "        vertical-align: middle;\n",
       "    }\n",
       "\n",
       "    .dataframe tbody tr th {\n",
       "        vertical-align: top;\n",
       "    }\n",
       "\n",
       "    .dataframe thead th {\n",
       "        text-align: right;\n",
       "    }\n",
       "</style>\n",
       "<table border=\"1\" class=\"dataframe\">\n",
       "  <thead>\n",
       "    <tr style=\"text-align: right;\">\n",
       "      <th></th>\n",
       "      <th>Team</th>\n",
       "      <th>Player</th>\n",
       "      <th>Goals</th>\n",
       "      <th>Assists</th>\n",
       "      <th>Home_City</th>\n",
       "      <th>Num_Fans</th>\n",
       "      <th>City</th>\n",
       "      <th>Population</th>\n",
       "    </tr>\n",
       "  </thead>\n",
       "  <tbody>\n",
       "    <tr>\n",
       "      <th>0</th>\n",
       "      <td>Liverpool</td>\n",
       "      <td>Milner</td>\n",
       "      <td>2</td>\n",
       "      <td>12</td>\n",
       "      <td>Liverpool</td>\n",
       "      <td>0.2</td>\n",
       "      <td>Liverpool</td>\n",
       "      <td>0.5</td>\n",
       "    </tr>\n",
       "    <tr>\n",
       "      <th>1</th>\n",
       "      <td>Liverpool</td>\n",
       "      <td>Coutinho</td>\n",
       "      <td>5</td>\n",
       "      <td>4</td>\n",
       "      <td>Liverpool</td>\n",
       "      <td>0.2</td>\n",
       "      <td>Liverpool</td>\n",
       "      <td>0.5</td>\n",
       "    </tr>\n",
       "    <tr>\n",
       "      <th>2</th>\n",
       "      <td>Tottenham</td>\n",
       "      <td>Kane</td>\n",
       "      <td>10</td>\n",
       "      <td>4</td>\n",
       "      <td>London</td>\n",
       "      <td>2.3</td>\n",
       "      <td>London</td>\n",
       "      <td>9.0</td>\n",
       "    </tr>\n",
       "    <tr>\n",
       "      <th>3</th>\n",
       "      <td>Tottenham</td>\n",
       "      <td>Son</td>\n",
       "      <td>6</td>\n",
       "      <td>10</td>\n",
       "      <td>London</td>\n",
       "      <td>2.3</td>\n",
       "      <td>London</td>\n",
       "      <td>9.0</td>\n",
       "    </tr>\n",
       "    <tr>\n",
       "      <th>4</th>\n",
       "      <td>Everton</td>\n",
       "      <td>Rooney</td>\n",
       "      <td>4</td>\n",
       "      <td>7</td>\n",
       "      <td>Liverpool</td>\n",
       "      <td>0.1</td>\n",
       "      <td>Liverpool</td>\n",
       "      <td>0.5</td>\n",
       "    </tr>\n",
       "    <tr>\n",
       "      <th>5</th>\n",
       "      <td>Everton</td>\n",
       "      <td>Baines</td>\n",
       "      <td>1</td>\n",
       "      <td>1</td>\n",
       "      <td>Liverpool</td>\n",
       "      <td>0.1</td>\n",
       "      <td>Liverpool</td>\n",
       "      <td>0.5</td>\n",
       "    </tr>\n",
       "    <tr>\n",
       "      <th>6</th>\n",
       "      <td>Chelsea</td>\n",
       "      <td>Hazard</td>\n",
       "      <td>7</td>\n",
       "      <td>8</td>\n",
       "      <td>London</td>\n",
       "      <td>5.1</td>\n",
       "      <td>London</td>\n",
       "      <td>9.0</td>\n",
       "    </tr>\n",
       "  </tbody>\n",
       "</table>\n",
       "</div>"
      ],
      "text/plain": [
       "        Team    Player  Goals  Assists  Home_City  Num_Fans       City  \\\n",
       "0  Liverpool    Milner      2       12  Liverpool       0.2  Liverpool   \n",
       "1  Liverpool  Coutinho      5        4  Liverpool       0.2  Liverpool   \n",
       "2  Tottenham      Kane     10        4     London       2.3     London   \n",
       "3  Tottenham       Son      6       10     London       2.3     London   \n",
       "4    Everton    Rooney      4        7  Liverpool       0.1  Liverpool   \n",
       "5    Everton    Baines      1        1  Liverpool       0.1  Liverpool   \n",
       "6    Chelsea    Hazard      7        8     London       5.1     London   \n",
       "\n",
       "   Population  \n",
       "0         0.5  \n",
       "1         0.5  \n",
       "2         9.0  \n",
       "3         9.0  \n",
       "4         0.5  \n",
       "5         0.5  \n",
       "6         9.0  "
      ]
     },
     "execution_count": 38,
     "metadata": {},
     "output_type": "execute_result"
    }
   ],
   "source": [
    "# Merge 3 dfs\n",
    "df_merged = df_players.merge(df_teams.merge(df_city, how='inner', left_on='Home_City', right_on='City'),\n",
    "                             how='inner', left_on='Team', right_on='Team')\n",
    "df_merged"
   ]
  },
  {
   "cell_type": "markdown",
   "id": "968e19a7",
   "metadata": {},
   "source": [
    "3) Join the 3 dfs (called df_joined). You might need to set_index() before you could join\n",
    "them"
   ]
  },
  {
   "cell_type": "code",
   "execution_count": 41,
   "id": "d1c57459",
   "metadata": {},
   "outputs": [
    {
     "data": {
      "application/vnd.microsoft.datawrangler.viewer.v0+json": {
       "columns": [
        {
         "name": "Team",
         "rawType": "object",
         "type": "string"
        },
        {
         "name": "Player",
         "rawType": "object",
         "type": "string"
        },
        {
         "name": "Goals",
         "rawType": "int64",
         "type": "integer"
        },
        {
         "name": "Assists",
         "rawType": "int64",
         "type": "integer"
        },
        {
         "name": "Population",
         "rawType": "float64",
         "type": "float"
        },
        {
         "name": "Num_Fans",
         "rawType": "float64",
         "type": "float"
        }
       ],
       "ref": "870bc803-5acc-4689-8010-f0c235bfbd82",
       "rows": [
        [
         "Liverpool",
         "Milner",
         "2",
         "12",
         "0.5",
         "0.2"
        ],
        [
         "Liverpool",
         "Coutinho",
         "5",
         "4",
         "0.5",
         "0.2"
        ],
        [
         "Tottenham",
         "Kane",
         "10",
         "4",
         "9.0",
         "2.3"
        ],
        [
         "Tottenham",
         "Son",
         "6",
         "10",
         "9.0",
         "2.3"
        ],
        [
         "Everton",
         "Rooney",
         "4",
         "7",
         "0.5",
         "0.1"
        ],
        [
         "Everton",
         "Baines",
         "1",
         "1",
         "0.5",
         "0.1"
        ],
        [
         "Chelsea",
         "Hazard",
         "7",
         "8",
         "9.0",
         "5.1"
        ]
       ],
       "shape": {
        "columns": 5,
        "rows": 7
       }
      },
      "text/html": [
       "<div>\n",
       "<style scoped>\n",
       "    .dataframe tbody tr th:only-of-type {\n",
       "        vertical-align: middle;\n",
       "    }\n",
       "\n",
       "    .dataframe tbody tr th {\n",
       "        vertical-align: top;\n",
       "    }\n",
       "\n",
       "    .dataframe thead th {\n",
       "        text-align: right;\n",
       "    }\n",
       "</style>\n",
       "<table border=\"1\" class=\"dataframe\">\n",
       "  <thead>\n",
       "    <tr style=\"text-align: right;\">\n",
       "      <th></th>\n",
       "      <th>Player</th>\n",
       "      <th>Goals</th>\n",
       "      <th>Assists</th>\n",
       "      <th>Population</th>\n",
       "      <th>Num_Fans</th>\n",
       "    </tr>\n",
       "    <tr>\n",
       "      <th>Team</th>\n",
       "      <th></th>\n",
       "      <th></th>\n",
       "      <th></th>\n",
       "      <th></th>\n",
       "      <th></th>\n",
       "    </tr>\n",
       "  </thead>\n",
       "  <tbody>\n",
       "    <tr>\n",
       "      <th>Liverpool</th>\n",
       "      <td>Milner</td>\n",
       "      <td>2</td>\n",
       "      <td>12</td>\n",
       "      <td>0.5</td>\n",
       "      <td>0.2</td>\n",
       "    </tr>\n",
       "    <tr>\n",
       "      <th>Liverpool</th>\n",
       "      <td>Coutinho</td>\n",
       "      <td>5</td>\n",
       "      <td>4</td>\n",
       "      <td>0.5</td>\n",
       "      <td>0.2</td>\n",
       "    </tr>\n",
       "    <tr>\n",
       "      <th>Tottenham</th>\n",
       "      <td>Kane</td>\n",
       "      <td>10</td>\n",
       "      <td>4</td>\n",
       "      <td>9.0</td>\n",
       "      <td>2.3</td>\n",
       "    </tr>\n",
       "    <tr>\n",
       "      <th>Tottenham</th>\n",
       "      <td>Son</td>\n",
       "      <td>6</td>\n",
       "      <td>10</td>\n",
       "      <td>9.0</td>\n",
       "      <td>2.3</td>\n",
       "    </tr>\n",
       "    <tr>\n",
       "      <th>Everton</th>\n",
       "      <td>Rooney</td>\n",
       "      <td>4</td>\n",
       "      <td>7</td>\n",
       "      <td>0.5</td>\n",
       "      <td>0.1</td>\n",
       "    </tr>\n",
       "    <tr>\n",
       "      <th>Everton</th>\n",
       "      <td>Baines</td>\n",
       "      <td>1</td>\n",
       "      <td>1</td>\n",
       "      <td>0.5</td>\n",
       "      <td>0.1</td>\n",
       "    </tr>\n",
       "    <tr>\n",
       "      <th>Chelsea</th>\n",
       "      <td>Hazard</td>\n",
       "      <td>7</td>\n",
       "      <td>8</td>\n",
       "      <td>9.0</td>\n",
       "      <td>5.1</td>\n",
       "    </tr>\n",
       "  </tbody>\n",
       "</table>\n",
       "</div>"
      ],
      "text/plain": [
       "             Player  Goals  Assists  Population  Num_Fans\n",
       "Team                                                     \n",
       "Liverpool    Milner      2       12         0.5       0.2\n",
       "Liverpool  Coutinho      5        4         0.5       0.2\n",
       "Tottenham      Kane     10        4         9.0       2.3\n",
       "Tottenham       Son      6       10         9.0       2.3\n",
       "Everton      Rooney      4        7         0.5       0.1\n",
       "Everton      Baines      1        1         0.5       0.1\n",
       "Chelsea      Hazard      7        8         9.0       5.1"
      ]
     },
     "execution_count": 41,
     "metadata": {},
     "output_type": "execute_result"
    }
   ],
   "source": [
    "df_players_temp = df_players.set_index('Team')\n",
    "df_teams_temp = df_teams.set_index('Home_City')\n",
    "df_city_temp = df_city.set_index('City')\n",
    "\n",
    "# Join 3 dfs\n",
    "# First, join city with teams, then join with players\n",
    "df_joined = df_players_temp.join(df_city_temp.join(df_teams_temp).set_index('Team'))\n",
    "df_joined"
   ]
  },
  {
   "cell_type": "markdown",
   "id": "d2f2838c",
   "metadata": {},
   "source": [
    "4) Remove Home_City from df_merged"
   ]
  },
  {
   "cell_type": "code",
   "execution_count": 42,
   "id": "04fb582f",
   "metadata": {},
   "outputs": [
    {
     "data": {
      "application/vnd.microsoft.datawrangler.viewer.v0+json": {
       "columns": [
        {
         "name": "index",
         "rawType": "int64",
         "type": "integer"
        },
        {
         "name": "Team",
         "rawType": "object",
         "type": "string"
        },
        {
         "name": "Player",
         "rawType": "object",
         "type": "string"
        },
        {
         "name": "Goals",
         "rawType": "int64",
         "type": "integer"
        },
        {
         "name": "Assists",
         "rawType": "int64",
         "type": "integer"
        },
        {
         "name": "Num_Fans",
         "rawType": "float64",
         "type": "float"
        },
        {
         "name": "City",
         "rawType": "object",
         "type": "string"
        },
        {
         "name": "Population",
         "rawType": "float64",
         "type": "float"
        }
       ],
       "ref": "d001d18f-00b1-46a0-808b-5c10e40248d2",
       "rows": [
        [
         "0",
         "Liverpool",
         "Milner",
         "2",
         "12",
         "0.2",
         "Liverpool",
         "0.5"
        ],
        [
         "1",
         "Liverpool",
         "Coutinho",
         "5",
         "4",
         "0.2",
         "Liverpool",
         "0.5"
        ],
        [
         "2",
         "Tottenham",
         "Kane",
         "10",
         "4",
         "2.3",
         "London",
         "9.0"
        ],
        [
         "3",
         "Tottenham",
         "Son",
         "6",
         "10",
         "2.3",
         "London",
         "9.0"
        ],
        [
         "4",
         "Everton",
         "Rooney",
         "4",
         "7",
         "0.1",
         "Liverpool",
         "0.5"
        ],
        [
         "5",
         "Everton",
         "Baines",
         "1",
         "1",
         "0.1",
         "Liverpool",
         "0.5"
        ],
        [
         "6",
         "Chelsea",
         "Hazard",
         "7",
         "8",
         "5.1",
         "London",
         "9.0"
        ]
       ],
       "shape": {
        "columns": 7,
        "rows": 7
       }
      },
      "text/html": [
       "<div>\n",
       "<style scoped>\n",
       "    .dataframe tbody tr th:only-of-type {\n",
       "        vertical-align: middle;\n",
       "    }\n",
       "\n",
       "    .dataframe tbody tr th {\n",
       "        vertical-align: top;\n",
       "    }\n",
       "\n",
       "    .dataframe thead th {\n",
       "        text-align: right;\n",
       "    }\n",
       "</style>\n",
       "<table border=\"1\" class=\"dataframe\">\n",
       "  <thead>\n",
       "    <tr style=\"text-align: right;\">\n",
       "      <th></th>\n",
       "      <th>Team</th>\n",
       "      <th>Player</th>\n",
       "      <th>Goals</th>\n",
       "      <th>Assists</th>\n",
       "      <th>Num_Fans</th>\n",
       "      <th>City</th>\n",
       "      <th>Population</th>\n",
       "    </tr>\n",
       "  </thead>\n",
       "  <tbody>\n",
       "    <tr>\n",
       "      <th>0</th>\n",
       "      <td>Liverpool</td>\n",
       "      <td>Milner</td>\n",
       "      <td>2</td>\n",
       "      <td>12</td>\n",
       "      <td>0.2</td>\n",
       "      <td>Liverpool</td>\n",
       "      <td>0.5</td>\n",
       "    </tr>\n",
       "    <tr>\n",
       "      <th>1</th>\n",
       "      <td>Liverpool</td>\n",
       "      <td>Coutinho</td>\n",
       "      <td>5</td>\n",
       "      <td>4</td>\n",
       "      <td>0.2</td>\n",
       "      <td>Liverpool</td>\n",
       "      <td>0.5</td>\n",
       "    </tr>\n",
       "    <tr>\n",
       "      <th>2</th>\n",
       "      <td>Tottenham</td>\n",
       "      <td>Kane</td>\n",
       "      <td>10</td>\n",
       "      <td>4</td>\n",
       "      <td>2.3</td>\n",
       "      <td>London</td>\n",
       "      <td>9.0</td>\n",
       "    </tr>\n",
       "    <tr>\n",
       "      <th>3</th>\n",
       "      <td>Tottenham</td>\n",
       "      <td>Son</td>\n",
       "      <td>6</td>\n",
       "      <td>10</td>\n",
       "      <td>2.3</td>\n",
       "      <td>London</td>\n",
       "      <td>9.0</td>\n",
       "    </tr>\n",
       "    <tr>\n",
       "      <th>4</th>\n",
       "      <td>Everton</td>\n",
       "      <td>Rooney</td>\n",
       "      <td>4</td>\n",
       "      <td>7</td>\n",
       "      <td>0.1</td>\n",
       "      <td>Liverpool</td>\n",
       "      <td>0.5</td>\n",
       "    </tr>\n",
       "    <tr>\n",
       "      <th>5</th>\n",
       "      <td>Everton</td>\n",
       "      <td>Baines</td>\n",
       "      <td>1</td>\n",
       "      <td>1</td>\n",
       "      <td>0.1</td>\n",
       "      <td>Liverpool</td>\n",
       "      <td>0.5</td>\n",
       "    </tr>\n",
       "    <tr>\n",
       "      <th>6</th>\n",
       "      <td>Chelsea</td>\n",
       "      <td>Hazard</td>\n",
       "      <td>7</td>\n",
       "      <td>8</td>\n",
       "      <td>5.1</td>\n",
       "      <td>London</td>\n",
       "      <td>9.0</td>\n",
       "    </tr>\n",
       "  </tbody>\n",
       "</table>\n",
       "</div>"
      ],
      "text/plain": [
       "        Team    Player  Goals  Assists  Num_Fans       City  Population\n",
       "0  Liverpool    Milner      2       12       0.2  Liverpool         0.5\n",
       "1  Liverpool  Coutinho      5        4       0.2  Liverpool         0.5\n",
       "2  Tottenham      Kane     10        4       2.3     London         9.0\n",
       "3  Tottenham       Son      6       10       2.3     London         9.0\n",
       "4    Everton    Rooney      4        7       0.1  Liverpool         0.5\n",
       "5    Everton    Baines      1        1       0.1  Liverpool         0.5\n",
       "6    Chelsea    Hazard      7        8       5.1     London         9.0"
      ]
     },
     "execution_count": 42,
     "metadata": {},
     "output_type": "execute_result"
    }
   ],
   "source": [
    "df_merged = df_merged.drop(columns='Home_City')\n",
    "df_merged"
   ]
  },
  {
   "cell_type": "markdown",
   "id": "21c11efa",
   "metadata": {},
   "source": [
    "5) Find the player with the highest goals and then print out his statistics"
   ]
  },
  {
   "cell_type": "code",
   "execution_count": 44,
   "id": "a1c8dcb9",
   "metadata": {},
   "outputs": [
    {
     "data": {
      "application/vnd.microsoft.datawrangler.viewer.v0+json": {
       "columns": [
        {
         "name": "index",
         "rawType": "int64",
         "type": "integer"
        },
        {
         "name": "Team",
         "rawType": "object",
         "type": "string"
        },
        {
         "name": "Player",
         "rawType": "object",
         "type": "string"
        },
        {
         "name": "Goals",
         "rawType": "int64",
         "type": "integer"
        },
        {
         "name": "Assists",
         "rawType": "int64",
         "type": "integer"
        },
        {
         "name": "Num_Fans",
         "rawType": "float64",
         "type": "float"
        },
        {
         "name": "City",
         "rawType": "object",
         "type": "string"
        },
        {
         "name": "Population",
         "rawType": "float64",
         "type": "float"
        }
       ],
       "ref": "95fb855c-e65e-4789-b55c-88c4b23ec052",
       "rows": [
        [
         "2",
         "Tottenham",
         "Kane",
         "10",
         "4",
         "2.3",
         "London",
         "9.0"
        ]
       ],
       "shape": {
        "columns": 7,
        "rows": 1
       }
      },
      "text/html": [
       "<div>\n",
       "<style scoped>\n",
       "    .dataframe tbody tr th:only-of-type {\n",
       "        vertical-align: middle;\n",
       "    }\n",
       "\n",
       "    .dataframe tbody tr th {\n",
       "        vertical-align: top;\n",
       "    }\n",
       "\n",
       "    .dataframe thead th {\n",
       "        text-align: right;\n",
       "    }\n",
       "</style>\n",
       "<table border=\"1\" class=\"dataframe\">\n",
       "  <thead>\n",
       "    <tr style=\"text-align: right;\">\n",
       "      <th></th>\n",
       "      <th>Team</th>\n",
       "      <th>Player</th>\n",
       "      <th>Goals</th>\n",
       "      <th>Assists</th>\n",
       "      <th>Num_Fans</th>\n",
       "      <th>City</th>\n",
       "      <th>Population</th>\n",
       "    </tr>\n",
       "  </thead>\n",
       "  <tbody>\n",
       "    <tr>\n",
       "      <th>2</th>\n",
       "      <td>Tottenham</td>\n",
       "      <td>Kane</td>\n",
       "      <td>10</td>\n",
       "      <td>4</td>\n",
       "      <td>2.3</td>\n",
       "      <td>London</td>\n",
       "      <td>9.0</td>\n",
       "    </tr>\n",
       "  </tbody>\n",
       "</table>\n",
       "</div>"
      ],
      "text/plain": [
       "        Team Player  Goals  Assists  Num_Fans    City  Population\n",
       "2  Tottenham   Kane     10        4       2.3  London         9.0"
      ]
     },
     "execution_count": 44,
     "metadata": {},
     "output_type": "execute_result"
    }
   ],
   "source": [
    "df_merged[df_merged['Goals'] == df_merged['Goals'].max()]"
   ]
  },
  {
   "cell_type": "markdown",
   "id": "4b95dc44",
   "metadata": {},
   "source": [
    "Find the total number of goals of players from the same teams. Print out just the teams and the total goals."
   ]
  },
  {
   "cell_type": "code",
   "execution_count": 45,
   "id": "b1ec3b89",
   "metadata": {},
   "outputs": [
    {
     "data": {
      "application/vnd.microsoft.datawrangler.viewer.v0+json": {
       "columns": [
        {
         "name": "Team",
         "rawType": "object",
         "type": "string"
        },
        {
         "name": "Goals",
         "rawType": "int64",
         "type": "integer"
        }
       ],
       "ref": "cfd1779c-105e-4432-a90b-a1c2496098cc",
       "rows": [
        [
         "Chelsea",
         "7"
        ],
        [
         "Everton",
         "5"
        ],
        [
         "Liverpool",
         "7"
        ],
        [
         "Tottenham",
         "16"
        ]
       ],
       "shape": {
        "columns": 1,
        "rows": 4
       }
      },
      "text/plain": [
       "Team\n",
       "Chelsea       7\n",
       "Everton       5\n",
       "Liverpool     7\n",
       "Tottenham    16\n",
       "Name: Goals, dtype: int64"
      ]
     },
     "execution_count": 45,
     "metadata": {},
     "output_type": "execute_result"
    }
   ],
   "source": [
    "df_merged.groupby('Team')['Goals'].sum()"
   ]
  },
  {
   "cell_type": "markdown",
   "id": "0f52dfd7",
   "metadata": {},
   "source": [
    "7) Use filter, print out players from London who scored more than 2 goals."
   ]
  },
  {
   "cell_type": "code",
   "execution_count": 46,
   "id": "30423f1c",
   "metadata": {},
   "outputs": [
    {
     "data": {
      "application/vnd.microsoft.datawrangler.viewer.v0+json": {
       "columns": [
        {
         "name": "index",
         "rawType": "int64",
         "type": "integer"
        },
        {
         "name": "Team",
         "rawType": "object",
         "type": "string"
        },
        {
         "name": "Player",
         "rawType": "object",
         "type": "string"
        },
        {
         "name": "Goals",
         "rawType": "int64",
         "type": "integer"
        },
        {
         "name": "Assists",
         "rawType": "int64",
         "type": "integer"
        },
        {
         "name": "Num_Fans",
         "rawType": "float64",
         "type": "float"
        },
        {
         "name": "City",
         "rawType": "object",
         "type": "string"
        },
        {
         "name": "Population",
         "rawType": "float64",
         "type": "float"
        }
       ],
       "ref": "4e8a4780-11e4-4f52-9687-7995aa9f7e46",
       "rows": [
        [
         "2",
         "Tottenham",
         "Kane",
         "10",
         "4",
         "2.3",
         "London",
         "9.0"
        ],
        [
         "3",
         "Tottenham",
         "Son",
         "6",
         "10",
         "2.3",
         "London",
         "9.0"
        ],
        [
         "6",
         "Chelsea",
         "Hazard",
         "7",
         "8",
         "5.1",
         "London",
         "9.0"
        ]
       ],
       "shape": {
        "columns": 7,
        "rows": 3
       }
      },
      "text/html": [
       "<div>\n",
       "<style scoped>\n",
       "    .dataframe tbody tr th:only-of-type {\n",
       "        vertical-align: middle;\n",
       "    }\n",
       "\n",
       "    .dataframe tbody tr th {\n",
       "        vertical-align: top;\n",
       "    }\n",
       "\n",
       "    .dataframe thead th {\n",
       "        text-align: right;\n",
       "    }\n",
       "</style>\n",
       "<table border=\"1\" class=\"dataframe\">\n",
       "  <thead>\n",
       "    <tr style=\"text-align: right;\">\n",
       "      <th></th>\n",
       "      <th>Team</th>\n",
       "      <th>Player</th>\n",
       "      <th>Goals</th>\n",
       "      <th>Assists</th>\n",
       "      <th>Num_Fans</th>\n",
       "      <th>City</th>\n",
       "      <th>Population</th>\n",
       "    </tr>\n",
       "  </thead>\n",
       "  <tbody>\n",
       "    <tr>\n",
       "      <th>2</th>\n",
       "      <td>Tottenham</td>\n",
       "      <td>Kane</td>\n",
       "      <td>10</td>\n",
       "      <td>4</td>\n",
       "      <td>2.3</td>\n",
       "      <td>London</td>\n",
       "      <td>9.0</td>\n",
       "    </tr>\n",
       "    <tr>\n",
       "      <th>3</th>\n",
       "      <td>Tottenham</td>\n",
       "      <td>Son</td>\n",
       "      <td>6</td>\n",
       "      <td>10</td>\n",
       "      <td>2.3</td>\n",
       "      <td>London</td>\n",
       "      <td>9.0</td>\n",
       "    </tr>\n",
       "    <tr>\n",
       "      <th>6</th>\n",
       "      <td>Chelsea</td>\n",
       "      <td>Hazard</td>\n",
       "      <td>7</td>\n",
       "      <td>8</td>\n",
       "      <td>5.1</td>\n",
       "      <td>London</td>\n",
       "      <td>9.0</td>\n",
       "    </tr>\n",
       "  </tbody>\n",
       "</table>\n",
       "</div>"
      ],
      "text/plain": [
       "        Team  Player  Goals  Assists  Num_Fans    City  Population\n",
       "2  Tottenham    Kane     10        4       2.3  London         9.0\n",
       "3  Tottenham     Son      6       10       2.3  London         9.0\n",
       "6    Chelsea  Hazard      7        8       5.1  London         9.0"
      ]
     },
     "execution_count": 46,
     "metadata": {},
     "output_type": "execute_result"
    }
   ],
   "source": [
    "df_merged[(df_merged['City'] == 'London') & (df_merged['Goals'] > 2)]"
   ]
  },
  {
   "cell_type": "markdown",
   "id": "15c7cc1f",
   "metadata": {},
   "source": [
    "8) Print out the TOP player (by total goals and assists) from each team. Only show his\n",
    "name, team, total goals and assists."
   ]
  },
  {
   "cell_type": "code",
   "execution_count": 48,
   "id": "323c3943",
   "metadata": {},
   "outputs": [
    {
     "data": {
      "application/vnd.microsoft.datawrangler.viewer.v0+json": {
       "columns": [
        {
         "name": "Team",
         "rawType": "object",
         "type": "string"
        },
        {
         "name": "Player",
         "rawType": "object",
         "type": "string"
        },
        {
         "name": "Goal Contributions",
         "rawType": "int64",
         "type": "integer"
        }
       ],
       "ref": "8018fed6-0981-489a-9856-a000f2d86ae0",
       "rows": [
        [
         "Chelsea",
         "Hazard",
         "15"
        ],
        [
         "Everton",
         "Rooney",
         "11"
        ],
        [
         "Liverpool",
         "Milner",
         "14"
        ],
        [
         "Tottenham",
         "Son",
         "16"
        ]
       ],
       "shape": {
        "columns": 2,
        "rows": 4
       }
      },
      "text/html": [
       "<div>\n",
       "<style scoped>\n",
       "    .dataframe tbody tr th:only-of-type {\n",
       "        vertical-align: middle;\n",
       "    }\n",
       "\n",
       "    .dataframe tbody tr th {\n",
       "        vertical-align: top;\n",
       "    }\n",
       "\n",
       "    .dataframe thead th {\n",
       "        text-align: right;\n",
       "    }\n",
       "</style>\n",
       "<table border=\"1\" class=\"dataframe\">\n",
       "  <thead>\n",
       "    <tr style=\"text-align: right;\">\n",
       "      <th></th>\n",
       "      <th>Player</th>\n",
       "      <th>Goal Contributions</th>\n",
       "    </tr>\n",
       "    <tr>\n",
       "      <th>Team</th>\n",
       "      <th></th>\n",
       "      <th></th>\n",
       "    </tr>\n",
       "  </thead>\n",
       "  <tbody>\n",
       "    <tr>\n",
       "      <th>Chelsea</th>\n",
       "      <td>Hazard</td>\n",
       "      <td>15</td>\n",
       "    </tr>\n",
       "    <tr>\n",
       "      <th>Everton</th>\n",
       "      <td>Rooney</td>\n",
       "      <td>11</td>\n",
       "    </tr>\n",
       "    <tr>\n",
       "      <th>Liverpool</th>\n",
       "      <td>Milner</td>\n",
       "      <td>14</td>\n",
       "    </tr>\n",
       "    <tr>\n",
       "      <th>Tottenham</th>\n",
       "      <td>Son</td>\n",
       "      <td>16</td>\n",
       "    </tr>\n",
       "  </tbody>\n",
       "</table>\n",
       "</div>"
      ],
      "text/plain": [
       "           Player  Goal Contributions\n",
       "Team                                 \n",
       "Chelsea    Hazard                  15\n",
       "Everton    Rooney                  11\n",
       "Liverpool  Milner                  14\n",
       "Tottenham     Son                  16"
      ]
     },
     "execution_count": 48,
     "metadata": {},
     "output_type": "execute_result"
    }
   ],
   "source": [
    "df_merged['Goal Contributions'] = df_merged['Goals'] + df_merged['Assists']\n",
    "df_merged.groupby('Team')[['Player', 'Goal Contributions']].max()"
   ]
  },
  {
   "cell_type": "markdown",
   "id": "c499dde7",
   "metadata": {},
   "source": [
    "9) Insert a new column called “Star” that gives a “*” to players whose total goals and\n",
    "assists are greater than 12. Otherwise, just leave it empty."
   ]
  },
  {
   "cell_type": "code",
   "execution_count": 50,
   "id": "089713ca",
   "metadata": {},
   "outputs": [
    {
     "data": {
      "application/vnd.microsoft.datawrangler.viewer.v0+json": {
       "columns": [
        {
         "name": "index",
         "rawType": "int64",
         "type": "integer"
        },
        {
         "name": "Player",
         "rawType": "object",
         "type": "string"
        },
        {
         "name": "Team",
         "rawType": "object",
         "type": "string"
        },
        {
         "name": "Goal Contributions",
         "rawType": "int64",
         "type": "integer"
        },
        {
         "name": "Star",
         "rawType": "object",
         "type": "string"
        }
       ],
       "ref": "68e5090f-036c-4711-803c-1f2ebd427739",
       "rows": [
        [
         "0",
         "Milner",
         "Liverpool",
         "14",
         "*"
        ],
        [
         "1",
         "Coutinho",
         "Liverpool",
         "9",
         " "
        ],
        [
         "2",
         "Kane",
         "Tottenham",
         "14",
         "*"
        ],
        [
         "3",
         "Son",
         "Tottenham",
         "16",
         "*"
        ],
        [
         "4",
         "Rooney",
         "Everton",
         "11",
         " "
        ],
        [
         "5",
         "Baines",
         "Everton",
         "2",
         " "
        ],
        [
         "6",
         "Hazard",
         "Chelsea",
         "15",
         "*"
        ]
       ],
       "shape": {
        "columns": 4,
        "rows": 7
       }
      },
      "text/html": [
       "<div>\n",
       "<style scoped>\n",
       "    .dataframe tbody tr th:only-of-type {\n",
       "        vertical-align: middle;\n",
       "    }\n",
       "\n",
       "    .dataframe tbody tr th {\n",
       "        vertical-align: top;\n",
       "    }\n",
       "\n",
       "    .dataframe thead th {\n",
       "        text-align: right;\n",
       "    }\n",
       "</style>\n",
       "<table border=\"1\" class=\"dataframe\">\n",
       "  <thead>\n",
       "    <tr style=\"text-align: right;\">\n",
       "      <th></th>\n",
       "      <th>Player</th>\n",
       "      <th>Team</th>\n",
       "      <th>Goal Contributions</th>\n",
       "      <th>Star</th>\n",
       "    </tr>\n",
       "  </thead>\n",
       "  <tbody>\n",
       "    <tr>\n",
       "      <th>0</th>\n",
       "      <td>Milner</td>\n",
       "      <td>Liverpool</td>\n",
       "      <td>14</td>\n",
       "      <td>*</td>\n",
       "    </tr>\n",
       "    <tr>\n",
       "      <th>1</th>\n",
       "      <td>Coutinho</td>\n",
       "      <td>Liverpool</td>\n",
       "      <td>9</td>\n",
       "      <td></td>\n",
       "    </tr>\n",
       "    <tr>\n",
       "      <th>2</th>\n",
       "      <td>Kane</td>\n",
       "      <td>Tottenham</td>\n",
       "      <td>14</td>\n",
       "      <td>*</td>\n",
       "    </tr>\n",
       "    <tr>\n",
       "      <th>3</th>\n",
       "      <td>Son</td>\n",
       "      <td>Tottenham</td>\n",
       "      <td>16</td>\n",
       "      <td>*</td>\n",
       "    </tr>\n",
       "    <tr>\n",
       "      <th>4</th>\n",
       "      <td>Rooney</td>\n",
       "      <td>Everton</td>\n",
       "      <td>11</td>\n",
       "      <td></td>\n",
       "    </tr>\n",
       "    <tr>\n",
       "      <th>5</th>\n",
       "      <td>Baines</td>\n",
       "      <td>Everton</td>\n",
       "      <td>2</td>\n",
       "      <td></td>\n",
       "    </tr>\n",
       "    <tr>\n",
       "      <th>6</th>\n",
       "      <td>Hazard</td>\n",
       "      <td>Chelsea</td>\n",
       "      <td>15</td>\n",
       "      <td>*</td>\n",
       "    </tr>\n",
       "  </tbody>\n",
       "</table>\n",
       "</div>"
      ],
      "text/plain": [
       "     Player       Team  Goal Contributions Star\n",
       "0    Milner  Liverpool                  14    *\n",
       "1  Coutinho  Liverpool                   9     \n",
       "2      Kane  Tottenham                  14    *\n",
       "3       Son  Tottenham                  16    *\n",
       "4    Rooney    Everton                  11     \n",
       "5    Baines    Everton                   2     \n",
       "6    Hazard    Chelsea                  15    *"
      ]
     },
     "execution_count": 50,
     "metadata": {},
     "output_type": "execute_result"
    }
   ],
   "source": [
    "df_merged['Star'] = \" \"\n",
    "# Add star to the row with goal contributions > 12\n",
    "df_merged.loc[df_merged['Goal Contributions'] > 12, 'Star'] = '*'\n",
    "df_merged[['Player', 'Team', 'Goal Contributions', 'Star']]"
   ]
  },
  {
   "cell_type": "markdown",
   "id": "2d30734c",
   "metadata": {},
   "source": [
    "10) Create a dictionary D {“Player”: Goal} using df. iterrows()"
   ]
  },
  {
   "cell_type": "code",
   "execution_count": 52,
   "id": "e31b63be",
   "metadata": {},
   "outputs": [
    {
     "data": {
      "text/plain": [
       "{'Milner': 2,\n",
       " 'Coutinho': 5,\n",
       " 'Kane': 10,\n",
       " 'Son': 6,\n",
       " 'Rooney': 4,\n",
       " 'Baines': 1,\n",
       " 'Hazard': 7}"
      ]
     },
     "execution_count": 52,
     "metadata": {},
     "output_type": "execute_result"
    }
   ],
   "source": [
    "D = {}\n",
    "for index, row in df_merged.iterrows():\n",
    "    D[row['Player']] = row['Goals']\n",
    "\n",
    "D"
   ]
  }
 ],
 "metadata": {
  "kernelspec": {
   "display_name": ".venv (3.13.7)",
   "language": "python",
   "name": "python3"
  },
  "language_info": {
   "codemirror_mode": {
    "name": "ipython",
    "version": 3
   },
   "file_extension": ".py",
   "mimetype": "text/x-python",
   "name": "python",
   "nbconvert_exporter": "python",
   "pygments_lexer": "ipython3",
   "version": "3.13.7"
  }
 },
 "nbformat": 4,
 "nbformat_minor": 5
}
