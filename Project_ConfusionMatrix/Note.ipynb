{
 "cells": [
  {
   "cell_type": "markdown",
   "id": "903d873f",
   "metadata": {},
   "source": [
    "Construct the confusion matrix based on the following data (without using Scikit-Learn)."
   ]
  },
  {
   "cell_type": "code",
   "execution_count": 12,
   "id": "b5640f42",
   "metadata": {},
   "outputs": [],
   "source": [
    "import numpy as np\n",
    "\n",
    "true_value = np.array(['A', 'B', 'A', 'C', 'C', 'B', 'A', 'A', 'A', 'B', 'B', 'C', 'C', 'C', 'B'])\n",
    "predict_value = np.array(['A', 'A', 'C', 'C', 'B', 'B', 'A', 'A', 'A', 'C', 'A', 'A', 'C', 'C', 'B'])"
   ]
  },
  {
   "cell_type": "markdown",
   "id": "c46682ae",
   "metadata": {},
   "source": [
    "Get the unique labels, used for replacement"
   ]
  },
  {
   "cell_type": "code",
   "execution_count": 13,
   "id": "ad535914",
   "metadata": {},
   "outputs": [
    {
     "name": "stdout",
     "output_type": "stream",
     "text": [
      "Unique Labels: ['A', 'B', 'C']\n"
     ]
    }
   ],
   "source": [
    "unique_labels = np.unique(true_value).tolist()\n",
    "print(\"Unique Labels:\", unique_labels)"
   ]
  },
  {
   "cell_type": "markdown",
   "id": "5238fab2",
   "metadata": {},
   "source": [
    "Iterate to replace the labels"
   ]
  },
  {
   "cell_type": "code",
   "execution_count": 14,
   "id": "e804c8bf",
   "metadata": {},
   "outputs": [],
   "source": [
    "for i in range(len(unique_labels)):\n",
    "    true_value[true_value == unique_labels[i]] = i\n",
    "    predict_value[predict_value == unique_labels[i]] = i"
   ]
  },
  {
   "cell_type": "markdown",
   "id": "500d4af1",
   "metadata": {},
   "source": [
    "Convert them to integer"
   ]
  },
  {
   "cell_type": "code",
   "execution_count": 15,
   "id": "53d3c008",
   "metadata": {},
   "outputs": [
    {
     "name": "stdout",
     "output_type": "stream",
     "text": [
      "True Value: [0 1 0 2 2 1 0 0 0 1 1 2 2 2 1]\n",
      "Predict Value: [0 0 2 2 1 1 0 0 0 2 0 0 2 2 1]\n"
     ]
    }
   ],
   "source": [
    "true_value = np.array(true_value, dtype=int)\n",
    "predict_value = np.array(predict_value, dtype=int)\n",
    "print(\"True Value:\", true_value)\n",
    "print(\"Predict Value:\", predict_value)"
   ]
  },
  {
   "cell_type": "markdown",
   "id": "eb8c3282",
   "metadata": {},
   "source": [
    "Construct the confusion matrix"
   ]
  },
  {
   "cell_type": "code",
   "execution_count": 16,
   "id": "637626b6",
   "metadata": {},
   "outputs": [
    {
     "name": "stdout",
     "output_type": "stream",
     "text": [
      "[[0. 0. 0.]\n",
      " [0. 0. 0.]\n",
      " [0. 0. 0.]]\n"
     ]
    }
   ],
   "source": [
    "confusion_matrix = np.zeros((len(unique_labels), len(unique_labels)))\n",
    "print(confusion_matrix)"
   ]
  },
  {
   "cell_type": "code",
   "execution_count": 17,
   "id": "6f7766a4",
   "metadata": {},
   "outputs": [
    {
     "name": "stdout",
     "output_type": "stream",
     "text": [
      "Confusion Matrix:\n",
      " [[4. 0. 1.]\n",
      " [2. 2. 1.]\n",
      " [1. 1. 3.]]\n"
     ]
    }
   ],
   "source": [
    "unique_labels = np.unique(true_value).tolist()\n",
    "\n",
    "tp = []\n",
    "for j in range(len(unique_labels)):\n",
    "    tp_count = 0\n",
    "    for k in range(len(true_value)):\n",
    "        # Catch the true positive\n",
    "        if true_value[k] == j and predict_value[k] == j:\n",
    "            tp_count += 1  # Count and then append\n",
    "        # Finally, count the remaining entries\n",
    "        elif true_value[k] == j and predict_value[k] != j:\n",
    "            confusion_matrix[true_value[k], predict_value[k]] += 1\n",
    "    # Substitute the tp to the diagonal entry\n",
    "    confusion_matrix[j, j] = tp_count\n",
    "   \n",
    "\n",
    "print(\"Confusion Matrix:\\n\", confusion_matrix)"
   ]
  },
  {
   "cell_type": "code",
   "execution_count": 18,
   "id": "9e9b73c2",
   "metadata": {},
   "outputs": [],
   "source": [
    "def get_components(confusion_matrix, k):\n",
    "    tp = confusion_matrix[k, k]\n",
    "    fp = confusion_matrix[:, k].sum() - tp\n",
    "    fn = confusion_matrix[k, :].sum() - tp\n",
    "    tn = confusion_matrix.sum() - (tp + fp + fn)\n",
    "    return tp, fp, fn, tn"
   ]
  },
  {
   "cell_type": "code",
   "execution_count": 19,
   "id": "a2326c21",
   "metadata": {},
   "outputs": [
    {
     "name": "stdout",
     "output_type": "stream",
     "text": [
      "Label 0\n",
      "TP: 4.0; FP: 3.0; FN: 1.0; TN: 7.0\n",
      "Accuracy: 0.7333333333333333\n",
      "Precision: 0.5714285714285714\n",
      "Recall: 0.8\n",
      "Specificity: 0.7\n",
      "F1 Score: 0.6666666666666666\n",
      "\n",
      "Label 1\n",
      "TP: 2.0; FP: 1.0; FN: 3.0; TN: 9.0\n",
      "Accuracy: 0.7333333333333333\n",
      "Precision: 0.6666666666666666\n",
      "Recall: 0.4\n",
      "Specificity: 0.9\n",
      "F1 Score: 0.5\n",
      "\n",
      "Label 2\n",
      "TP: 3.0; FP: 2.0; FN: 2.0; TN: 8.0\n",
      "Accuracy: 0.7333333333333333\n",
      "Precision: 0.6\n",
      "Recall: 0.6\n",
      "Specificity: 0.8\n",
      "F1 Score: 0.6\n",
      "\n"
     ]
    }
   ],
   "source": [
    "for i in unique_labels:\n",
    "    print(\"Label\", i)\n",
    "    tp, fp, fn, tn = get_components(confusion_matrix, i)\n",
    "    accuracy = (tp + tn) / (tp + tn + fp + fn)\n",
    "    precision = tp / (tp + fp)\n",
    "    recall = tp / (tp + fn)\n",
    "    specificity = tn / (tn + fp)\n",
    "    f1_score = (2 * recall * precision) / (recall + precision)\n",
    "    print(f\"TP: {tp}; FP: {fp}; FN: {fn}; TN: {tn}\")\n",
    "    print(f\"Accuracy: {accuracy}\")\n",
    "    print(f\"Precision: {precision}\")\n",
    "    print(f\"Recall: {recall}\")\n",
    "    print(f\"Specificity: {specificity}\")\n",
    "    print(f\"F1 Score: {f1_score}\")\n",
    "    print()"
   ]
  },
  {
   "cell_type": "code",
   "execution_count": 21,
   "id": "04048dbd",
   "metadata": {},
   "outputs": [
    {
     "data": {
      "image/png": "[encoded data removed]",
      "text/plain": [
       "<Figure size 600x400 with 2 Axes>"
      ]
     },
     "metadata": {},
     "output_type": "display_data"
    }
   ],
   "source": [
    "import matplotlib.pyplot as plt\n",
    "import seaborn as sns\n",
    "\n",
    "# Plot\n",
    "plt.figure(figsize=(6,4))\n",
    "sns.heatmap(confusion_matrix, annot=True, cmap=\"Blues\", \n",
    "            xticklabels=unique_labels, yticklabels=unique_labels)\n",
    "plt.xlabel(\"Predicted Label\")\n",
    "plt.ylabel(\"True Label\")\n",
    "plt.title(\"Confusion Matrix\")\n",
    "plt.show()"
   ]
  },
  {
   "cell_type": "code",
   "execution_count": 23,
   "id": "14479a51",
   "metadata": {},
   "outputs": [
    {
     "name": "stdout",
     "output_type": "stream",
     "text": [
      "Overall Accuracy: 0.6\n",
      "Macro Accuracy: 0.7333333333333333\n",
      "Macro Precision: 0.6126984126984127\n",
      "Macro Recall: 0.6000000000000001\n",
      "Macro F1 Score: 0.5888888888888889\n"
     ]
    }
   ],
   "source": [
    "correct_prediction = sum([confusion_matrix[k, k] for k in unique_labels])\n",
    "samples = confusion_matrix.sum()\n",
    "print(f\"Overall Accuracy:\", correct_prediction / samples)\n",
    "\n",
    "# Some lists to store the result\n",
    "accuracy_k = []\n",
    "precision_k = []\n",
    "recall_k = []\n",
    "f1_score_k = []\n",
    "\n",
    "for i in unique_labels:\n",
    "    tp, fp, fn, tn = get_components(confusion_matrix, i)\n",
    "    accuracy = (tp + tn) / (tp + tn + fp + fn)\n",
    "    precision = tp / (tp + fp)\n",
    "    recall = tp / (tp + fn)\n",
    "    specificity = tn / (tn + fp)\n",
    "    f1_score = (2 * recall * precision) / (recall + precision)\n",
    "    # Append the result\n",
    "    accuracy_k.append(accuracy)\n",
    "    precision_k.append(precision)\n",
    "    recall_k.append(recall)\n",
    "    f1_score_k.append(f1_score)\n",
    "\n",
    "# Find the macro-metrics\n",
    "n = len(accuracy_k)  # Assume the length for all these lists are the same\n",
    "print(f\"Macro Accuracy: {sum(accuracy_k) / n}\")\n",
    "print(f\"Macro Precision: {sum(precision_k) / n}\")\n",
    "print(f\"Macro Recall: {sum(recall_k) / n}\")\n",
    "print(f\"Macro F1 Score: {sum(f1_score_k) / n}\")"
   ]
  }
 ],
 "metadata": {
  "kernelspec": {
   "display_name": ".venv (3.13.7)",
   "language": "python",
   "name": "python3"
  },
  "language_info": {
   "codemirror_mode": {
    "name": "ipython",
    "version": 3
   },
   "file_extension": ".py",
   "mimetype": "text/x-python",
   "name": "python",
   "nbconvert_exporter": "python",
   "pygments_lexer": "ipython3",
   "version": "3.13.7"
  }
 },
 "nbformat": 4,
 "nbformat_minor": 5
}
