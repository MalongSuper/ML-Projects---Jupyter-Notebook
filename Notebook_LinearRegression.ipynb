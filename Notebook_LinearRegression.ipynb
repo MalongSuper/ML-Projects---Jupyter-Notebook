{
 "cells": [
  {
   "cell_type": "markdown",
   "id": "9764ad8e",
   "metadata": {},
   "source": [
    "### Perform Linear Regression in a Data Frame using the Pandas library.\n"
   ]
  },
  {
   "cell_type": "markdown",
   "id": "8db9ef0e",
   "metadata": {},
   "source": [
    "Import the required library:"
   ]
  },
  {
   "cell_type": "code",
   "execution_count": 37,
   "id": "fd0b52ab",
   "metadata": {},
   "outputs": [],
   "source": [
    "import pandas as pd"
   ]
  },
  {
   "cell_type": "markdown",
   "id": "4e226d3c",
   "metadata": {},
   "source": [
    "Read the dataset:"
   ]
  },
  {
   "cell_type": "code",
   "execution_count": 38,
   "id": "bf478797",
   "metadata": {},
   "outputs": [
    {
     "data": {
      "application/vnd.microsoft.datawrangler.viewer.v0+json": {
       "columns": [
        {
         "name": "index",
         "rawType": "int64",
         "type": "integer"
        },
        {
         "name": "X",
         "rawType": "float64",
         "type": "float"
        },
        {
         "name": "Y",
         "rawType": "float64",
         "type": "float"
        }
       ],
       "ref": "f852c79f-c866-46ff-aa36-5edd15f14b57",
       "rows": [
        [
         "0",
         "4.5",
         "5.1"
        ],
        [
         "1",
         "5.2",
         "6.3"
        ],
        [
         "2",
         "6.0",
         "6.7"
        ],
        [
         "3",
         "6.4",
         "7.5"
        ],
        [
         "4",
         "7.1",
         "7.8"
        ],
        [
         "5",
         "7.3",
         "8.1"
        ],
        [
         "6",
         "8.0",
         "8.6"
        ],
        [
         "7",
         "8.4",
         "9.0"
        ],
        [
         "8",
         "9.1",
         "9.4"
        ],
        [
         "9",
         "9.5",
         "9.8"
        ],
        [
         "10",
         "4.8",
         "5.4"
        ],
        [
         "11",
         "5.5",
         "6.1"
        ],
        [
         "12",
         "5.9",
         "6.5"
        ],
        [
         "13",
         "6.6",
         "7.2"
        ],
        [
         "14",
         "6.9",
         "7.6"
        ],
        [
         "15",
         "7.5",
         "8.0"
        ],
        [
         "16",
         "8.1",
         "8.3"
        ],
        [
         "17",
         "8.6",
         "8.7"
        ],
        [
         "18",
         "8.9",
         "9.1"
        ],
        [
         "19",
         "9.3",
         "9.5"
        ]
       ],
       "shape": {
        "columns": 2,
        "rows": 20
       }
      },
      "text/html": [
       "<div>\n",
       "<style scoped>\n",
       "    .dataframe tbody tr th:only-of-type {\n",
       "        vertical-align: middle;\n",
       "    }\n",
       "\n",
       "    .dataframe tbody tr th {\n",
       "        vertical-align: top;\n",
       "    }\n",
       "\n",
       "    .dataframe thead th {\n",
       "        text-align: right;\n",
       "    }\n",
       "</style>\n",
       "<table border=\"1\" class=\"dataframe\">\n",
       "  <thead>\n",
       "    <tr style=\"text-align: right;\">\n",
       "      <th></th>\n",
       "      <th>X</th>\n",
       "      <th>Y</th>\n",
       "    </tr>\n",
       "  </thead>\n",
       "  <tbody>\n",
       "    <tr>\n",
       "      <th>0</th>\n",
       "      <td>4.5</td>\n",
       "      <td>5.1</td>\n",
       "    </tr>\n",
       "    <tr>\n",
       "      <th>1</th>\n",
       "      <td>5.2</td>\n",
       "      <td>6.3</td>\n",
       "    </tr>\n",
       "    <tr>\n",
       "      <th>2</th>\n",
       "      <td>6.0</td>\n",
       "      <td>6.7</td>\n",
       "    </tr>\n",
       "    <tr>\n",
       "      <th>3</th>\n",
       "      <td>6.4</td>\n",
       "      <td>7.5</td>\n",
       "    </tr>\n",
       "    <tr>\n",
       "      <th>4</th>\n",
       "      <td>7.1</td>\n",
       "      <td>7.8</td>\n",
       "    </tr>\n",
       "    <tr>\n",
       "      <th>5</th>\n",
       "      <td>7.3</td>\n",
       "      <td>8.1</td>\n",
       "    </tr>\n",
       "    <tr>\n",
       "      <th>6</th>\n",
       "      <td>8.0</td>\n",
       "      <td>8.6</td>\n",
       "    </tr>\n",
       "    <tr>\n",
       "      <th>7</th>\n",
       "      <td>8.4</td>\n",
       "      <td>9.0</td>\n",
       "    </tr>\n",
       "    <tr>\n",
       "      <th>8</th>\n",
       "      <td>9.1</td>\n",
       "      <td>9.4</td>\n",
       "    </tr>\n",
       "    <tr>\n",
       "      <th>9</th>\n",
       "      <td>9.5</td>\n",
       "      <td>9.8</td>\n",
       "    </tr>\n",
       "    <tr>\n",
       "      <th>10</th>\n",
       "      <td>4.8</td>\n",
       "      <td>5.4</td>\n",
       "    </tr>\n",
       "    <tr>\n",
       "      <th>11</th>\n",
       "      <td>5.5</td>\n",
       "      <td>6.1</td>\n",
       "    </tr>\n",
       "    <tr>\n",
       "      <th>12</th>\n",
       "      <td>5.9</td>\n",
       "      <td>6.5</td>\n",
       "    </tr>\n",
       "    <tr>\n",
       "      <th>13</th>\n",
       "      <td>6.6</td>\n",
       "      <td>7.2</td>\n",
       "    </tr>\n",
       "    <tr>\n",
       "      <th>14</th>\n",
       "      <td>6.9</td>\n",
       "      <td>7.6</td>\n",
       "    </tr>\n",
       "    <tr>\n",
       "      <th>15</th>\n",
       "      <td>7.5</td>\n",
       "      <td>8.0</td>\n",
       "    </tr>\n",
       "    <tr>\n",
       "      <th>16</th>\n",
       "      <td>8.1</td>\n",
       "      <td>8.3</td>\n",
       "    </tr>\n",
       "    <tr>\n",
       "      <th>17</th>\n",
       "      <td>8.6</td>\n",
       "      <td>8.7</td>\n",
       "    </tr>\n",
       "    <tr>\n",
       "      <th>18</th>\n",
       "      <td>8.9</td>\n",
       "      <td>9.1</td>\n",
       "    </tr>\n",
       "    <tr>\n",
       "      <th>19</th>\n",
       "      <td>9.3</td>\n",
       "      <td>9.5</td>\n",
       "    </tr>\n",
       "  </tbody>\n",
       "</table>\n",
       "</div>"
      ],
      "text/plain": [
       "      X    Y\n",
       "0   4.5  5.1\n",
       "1   5.2  6.3\n",
       "2   6.0  6.7\n",
       "3   6.4  7.5\n",
       "4   7.1  7.8\n",
       "5   7.3  8.1\n",
       "6   8.0  8.6\n",
       "7   8.4  9.0\n",
       "8   9.1  9.4\n",
       "9   9.5  9.8\n",
       "10  4.8  5.4\n",
       "11  5.5  6.1\n",
       "12  5.9  6.5\n",
       "13  6.6  7.2\n",
       "14  6.9  7.6\n",
       "15  7.5  8.0\n",
       "16  8.1  8.3\n",
       "17  8.6  8.7\n",
       "18  8.9  9.1\n",
       "19  9.3  9.5"
      ]
     },
     "execution_count": 38,
     "metadata": {},
     "output_type": "execute_result"
    }
   ],
   "source": [
    "sample_data = {\n",
    "    'X': [4.5, 5.2, 6.0, 6.4, 7.1, 7.3, 8.0, 8.4, 9.1, 9.5,\n",
    "          4.8, 5.5, 5.9, 6.6, 6.9, 7.5, 8.1, 8.6, 8.9, 9.3],\n",
    "    'Y': [5.1, 6.3, 6.7, 7.5, 7.8, 8.1, 8.6, 9.0, 9.4, 9.8,\n",
    "          5.4, 6.1, 6.5, 7.2, 7.6, 8.0, 8.3, 8.7, 9.1, 9.5]\n",
    "}\n",
    "\n",
    "df = pd.DataFrame(sample_data, columns=['X', 'Y'])\n",
    "\n",
    "df"
   ]
  },
  {
   "cell_type": "markdown",
   "id": "f073904e",
   "metadata": {},
   "source": [
    "Find the total number of samples"
   ]
  },
  {
   "cell_type": "code",
   "execution_count": 39,
   "id": "c59c5831",
   "metadata": {},
   "outputs": [
    {
     "name": "stdout",
     "output_type": "stream",
     "text": [
      "n = 20\n"
     ]
    }
   ],
   "source": [
    "n = len(df)\n",
    "print(f\"n = {n}\")"
   ]
  },
  {
   "cell_type": "markdown",
   "id": "db44ed9d",
   "metadata": {},
   "source": [
    "The sum of X values"
   ]
  },
  {
   "cell_type": "code",
   "execution_count": 40,
   "id": "624c221d",
   "metadata": {},
   "outputs": [
    {
     "name": "stdout",
     "output_type": "stream",
     "text": [
      "Sum of X = 143.6\n"
     ]
    }
   ],
   "source": [
    "sum_x = df['X'].sum()\n",
    "print(f\"Sum of X = {sum_x}\")"
   ]
  },
  {
   "cell_type": "markdown",
   "id": "ad2e033c",
   "metadata": {},
   "source": [
    "The sum of Y values"
   ]
  },
  {
   "cell_type": "code",
   "execution_count": 41,
   "id": "08bf2b02",
   "metadata": {},
   "outputs": [
    {
     "name": "stdout",
     "output_type": "stream",
     "text": [
      "Sum of Y = 154.7\n"
     ]
    }
   ],
   "source": [
    "sum_y = df['Y'].sum()\n",
    "print(f\"Sum of Y = {sum_y}\")"
   ]
  },
  {
   "cell_type": "markdown",
   "id": "9a4c33f3",
   "metadata": {},
   "source": [
    "The sum of (X * Y) values"
   ]
  },
  {
   "cell_type": "code",
   "execution_count": null,
   "id": "6c134ee7",
   "metadata": {},
   "outputs": [],
   "source": [
    "sum_xy = (df['X'] * df['Y']).sum()\n",
    "print(f\"Sum of XY = {sum_xy}\")"
   ]
  },
  {
   "cell_type": "markdown",
   "id": "346d0218",
   "metadata": {},
   "source": [
    "Sum of X^2 values"
   ]
  },
  {
   "cell_type": "code",
   "execution_count": 42,
   "id": "6f5feef6",
   "metadata": {},
   "outputs": [
    {
     "name": "stdout",
     "output_type": "stream",
     "text": [
      "Sum of X^2 = 1076.3600000000001\n"
     ]
    }
   ],
   "source": [
    "sum_x_pow = (df['X'] ** 2).sum()\n",
    "print(f\"Sum of X^2 = {sum_x_pow}\")"
   ]
  },
  {
   "cell_type": "markdown",
   "id": "5cbee855",
   "metadata": {},
   "source": [
    "Sum of X powered by 2"
   ]
  },
  {
   "cell_type": "code",
   "execution_count": 43,
   "id": "5effb959",
   "metadata": {},
   "outputs": [
    {
     "name": "stdout",
     "output_type": "stream",
     "text": [
      "(Sum of X)^2 = 20620.96\n"
     ]
    }
   ],
   "source": [
    "sum_pow_x = (df['X'].sum()) ** 2\n",
    "print(f\"(Sum of X)^2 = {sum_pow_x}\")"
   ]
  },
  {
   "cell_type": "markdown",
   "id": "e13c5fe3",
   "metadata": {},
   "source": [
    "Apply the Linear Regression formula:"
   ]
  },
  {
   "cell_type": "code",
   "execution_count": 44,
   "id": "00c3300b",
   "metadata": {},
   "outputs": [
    {
     "name": "stdout",
     "output_type": "stream",
     "text": [
      "Linear Regression: Y = 1.4151041666667006 + 0.8802083333333286X\n"
     ]
    }
   ],
   "source": [
    "B = ((n * sum_xy) - (sum_x * sum_y)) / ((n * sum_x_pow) - sum_pow_x)\n",
    "A = (sum_y - (B * sum_x)) / n\n",
    "print(f\"Linear Regression: Y = {A} + {B}X\")"
   ]
  },
  {
   "cell_type": "markdown",
   "id": "842cdddb",
   "metadata": {},
   "source": [
    "Draw the Regression line:"
   ]
  },
  {
   "cell_type": "code",
   "execution_count": 45,
   "id": "07f63e70",
   "metadata": {},
   "outputs": [
    {
     "data": {
      "image/png": "[encoded data removed]",
      "text/plain": [
       "<Figure size 640x480 with 1 Axes>"
      ]
     },
     "metadata": {},
     "output_type": "display_data"
    }
   ],
   "source": [
    "import matplotlib.pyplot as plt\n",
    "\n",
    "# Draw Regression Line\n",
    "# Scatter plot of actual data\n",
    "plt.scatter(df['X'], df['Y'],\n",
    "            color='blue', label='Actual Data')\n",
    "# Regression line\n",
    "X_range = [min(df['X']), max(df['Y'])]\n",
    "y_range = [A + B * x for x in X_range]\n",
    "plt.plot(X_range, y_range, color='red', linewidth=2, label='Regression Line')\n",
    "\n",
    "# Labels and title\n",
    "plt.xlabel('X')\n",
    "plt.ylabel('Y')\n",
    "plt.title(f'Linear Regression: Y = {A:.2f} + ({B:.2f} * X)')\n",
    "plt.legend()\n",
    "plt.grid(True)\n",
    "plt.show()"
   ]
  },
  {
   "cell_type": "markdown",
   "id": "8f96cb5b",
   "metadata": {},
   "source": [
    "Make prediction for Y using X."
   ]
  },
  {
   "cell_type": "code",
   "execution_count": 46,
   "id": "0c7988b1",
   "metadata": {},
   "outputs": [
    {
     "data": {
      "application/vnd.microsoft.datawrangler.viewer.v0+json": {
       "columns": [
        {
         "name": "index",
         "rawType": "int64",
         "type": "integer"
        },
        {
         "name": "Actual Y",
         "rawType": "float64",
         "type": "float"
        },
        {
         "name": "Predicted Y",
         "rawType": "float64",
         "type": "float"
        }
       ],
       "ref": "daabd555-2cb6-4467-98e0-f585fd6b4b6f",
       "rows": [
        [
         "0",
         "5.1",
         "5.376041666666679"
        ],
        [
         "1",
         "6.3",
         "5.992187500000009"
        ],
        [
         "2",
         "6.7",
         "6.696354166666672"
        ],
        [
         "3",
         "7.5",
         "7.048437500000004"
        ],
        [
         "4",
         "7.8",
         "7.664583333333333"
        ],
        [
         "5",
         "8.1",
         "7.840624999999999"
        ],
        [
         "6",
         "8.6",
         "8.45677083333333"
        ],
        [
         "7",
         "9.0",
         "8.808854166666661"
        ],
        [
         "8",
         "9.4",
         "9.424999999999992"
        ],
        [
         "9",
         "9.8",
         "9.777083333333323"
        ],
        [
         "10",
         "5.4",
         "5.640104166666678"
        ],
        [
         "11",
         "6.1",
         "6.256250000000008"
        ],
        [
         "12",
         "6.5",
         "6.60833333333334"
        ],
        [
         "13",
         "7.2",
         "7.224479166666669"
        ],
        [
         "14",
         "7.6",
         "7.488541666666668"
        ],
        [
         "15",
         "8.0",
         "8.016666666666666"
        ],
        [
         "16",
         "8.3",
         "8.544791666666661"
        ],
        [
         "17",
         "8.7",
         "8.984895833333326"
        ],
        [
         "18",
         "9.1",
         "9.248958333333325"
        ],
        [
         "19",
         "9.5",
         "9.601041666666658"
        ]
       ],
       "shape": {
        "columns": 2,
        "rows": 20
       }
      },
      "text/html": [
       "<div>\n",
       "<style scoped>\n",
       "    .dataframe tbody tr th:only-of-type {\n",
       "        vertical-align: middle;\n",
       "    }\n",
       "\n",
       "    .dataframe tbody tr th {\n",
       "        vertical-align: top;\n",
       "    }\n",
       "\n",
       "    .dataframe thead th {\n",
       "        text-align: right;\n",
       "    }\n",
       "</style>\n",
       "<table border=\"1\" class=\"dataframe\">\n",
       "  <thead>\n",
       "    <tr style=\"text-align: right;\">\n",
       "      <th></th>\n",
       "      <th>Actual Y</th>\n",
       "      <th>Predicted Y</th>\n",
       "    </tr>\n",
       "  </thead>\n",
       "  <tbody>\n",
       "    <tr>\n",
       "      <th>0</th>\n",
       "      <td>5.1</td>\n",
       "      <td>5.376042</td>\n",
       "    </tr>\n",
       "    <tr>\n",
       "      <th>1</th>\n",
       "      <td>6.3</td>\n",
       "      <td>5.992188</td>\n",
       "    </tr>\n",
       "    <tr>\n",
       "      <th>2</th>\n",
       "      <td>6.7</td>\n",
       "      <td>6.696354</td>\n",
       "    </tr>\n",
       "    <tr>\n",
       "      <th>3</th>\n",
       "      <td>7.5</td>\n",
       "      <td>7.048438</td>\n",
       "    </tr>\n",
       "    <tr>\n",
       "      <th>4</th>\n",
       "      <td>7.8</td>\n",
       "      <td>7.664583</td>\n",
       "    </tr>\n",
       "    <tr>\n",
       "      <th>5</th>\n",
       "      <td>8.1</td>\n",
       "      <td>7.840625</td>\n",
       "    </tr>\n",
       "    <tr>\n",
       "      <th>6</th>\n",
       "      <td>8.6</td>\n",
       "      <td>8.456771</td>\n",
       "    </tr>\n",
       "    <tr>\n",
       "      <th>7</th>\n",
       "      <td>9.0</td>\n",
       "      <td>8.808854</td>\n",
       "    </tr>\n",
       "    <tr>\n",
       "      <th>8</th>\n",
       "      <td>9.4</td>\n",
       "      <td>9.425000</td>\n",
       "    </tr>\n",
       "    <tr>\n",
       "      <th>9</th>\n",
       "      <td>9.8</td>\n",
       "      <td>9.777083</td>\n",
       "    </tr>\n",
       "    <tr>\n",
       "      <th>10</th>\n",
       "      <td>5.4</td>\n",
       "      <td>5.640104</td>\n",
       "    </tr>\n",
       "    <tr>\n",
       "      <th>11</th>\n",
       "      <td>6.1</td>\n",
       "      <td>6.256250</td>\n",
       "    </tr>\n",
       "    <tr>\n",
       "      <th>12</th>\n",
       "      <td>6.5</td>\n",
       "      <td>6.608333</td>\n",
       "    </tr>\n",
       "    <tr>\n",
       "      <th>13</th>\n",
       "      <td>7.2</td>\n",
       "      <td>7.224479</td>\n",
       "    </tr>\n",
       "    <tr>\n",
       "      <th>14</th>\n",
       "      <td>7.6</td>\n",
       "      <td>7.488542</td>\n",
       "    </tr>\n",
       "    <tr>\n",
       "      <th>15</th>\n",
       "      <td>8.0</td>\n",
       "      <td>8.016667</td>\n",
       "    </tr>\n",
       "    <tr>\n",
       "      <th>16</th>\n",
       "      <td>8.3</td>\n",
       "      <td>8.544792</td>\n",
       "    </tr>\n",
       "    <tr>\n",
       "      <th>17</th>\n",
       "      <td>8.7</td>\n",
       "      <td>8.984896</td>\n",
       "    </tr>\n",
       "    <tr>\n",
       "      <th>18</th>\n",
       "      <td>9.1</td>\n",
       "      <td>9.248958</td>\n",
       "    </tr>\n",
       "    <tr>\n",
       "      <th>19</th>\n",
       "      <td>9.5</td>\n",
       "      <td>9.601042</td>\n",
       "    </tr>\n",
       "  </tbody>\n",
       "</table>\n",
       "</div>"
      ],
      "text/plain": [
       "    Actual Y  Predicted Y\n",
       "0        5.1     5.376042\n",
       "1        6.3     5.992188\n",
       "2        6.7     6.696354\n",
       "3        7.5     7.048438\n",
       "4        7.8     7.664583\n",
       "5        8.1     7.840625\n",
       "6        8.6     8.456771\n",
       "7        9.0     8.808854\n",
       "8        9.4     9.425000\n",
       "9        9.8     9.777083\n",
       "10       5.4     5.640104\n",
       "11       6.1     6.256250\n",
       "12       6.5     6.608333\n",
       "13       7.2     7.224479\n",
       "14       7.6     7.488542\n",
       "15       8.0     8.016667\n",
       "16       8.3     8.544792\n",
       "17       8.7     8.984896\n",
       "18       9.1     9.248958\n",
       "19       9.5     9.601042"
      ]
     },
     "execution_count": 46,
     "metadata": {},
     "output_type": "execute_result"
    }
   ],
   "source": [
    "# Iterate over the data frame\n",
    "pred_y = []\n",
    "for i in range(len(df)):\n",
    "    # Append the result to list\n",
    "    pred_y.append(A + B * df['X'][i])\n",
    "\n",
    "# Construct a new data frame\n",
    "predict_data = {'Actual Y': df['Y'].tolist(), 'Predicted Y': pred_y}\n",
    "pred_df = pd.DataFrame(predict_data)\n",
    "\n",
    "pred_df"
   ]
  },
  {
   "cell_type": "markdown",
   "id": "efc21514",
   "metadata": {},
   "source": [
    "Add the Residual column"
   ]
  },
  {
   "cell_type": "code",
   "execution_count": 47,
   "id": "1de60eef",
   "metadata": {},
   "outputs": [
    {
     "data": {
      "application/vnd.microsoft.datawrangler.viewer.v0+json": {
       "columns": [
        {
         "name": "index",
         "rawType": "int64",
         "type": "integer"
        },
        {
         "name": "Actual Y",
         "rawType": "float64",
         "type": "float"
        },
        {
         "name": "Predicted Y",
         "rawType": "float64",
         "type": "float"
        },
        {
         "name": "Residual",
         "rawType": "float64",
         "type": "float"
        }
       ],
       "ref": "afaed59b-62cb-42a4-b213-c7cfda764c97",
       "rows": [
        [
         "0",
         "5.1",
         "5.376041666666679",
         "0.2760416666666794"
        ],
        [
         "1",
         "6.3",
         "5.992187500000009",
         "0.30781249999999094"
        ],
        [
         "2",
         "6.7",
         "6.696354166666672",
         "0.003645833333328241"
        ],
        [
         "3",
         "7.5",
         "7.048437500000004",
         "0.4515624999999961"
        ],
        [
         "4",
         "7.8",
         "7.664583333333333",
         "0.13541666666666696"
        ],
        [
         "5",
         "8.1",
         "7.840624999999999",
         "0.25937500000000036"
        ],
        [
         "6",
         "8.6",
         "8.45677083333333",
         "0.14322916666666963"
        ],
        [
         "7",
         "9.0",
         "8.808854166666661",
         "0.1911458333333389"
        ],
        [
         "8",
         "9.4",
         "9.424999999999992",
         "0.024999999999991473"
        ],
        [
         "9",
         "9.8",
         "9.777083333333323",
         "0.0229166666666778"
        ],
        [
         "10",
         "5.4",
         "5.640104166666678",
         "0.24010416666667744"
        ],
        [
         "11",
         "6.1",
         "6.256250000000008",
         "0.156250000000008"
        ],
        [
         "12",
         "6.5",
         "6.60833333333334",
         "0.10833333333333961"
        ],
        [
         "13",
         "7.2",
         "7.224479166666669",
         "0.024479166666668384"
        ],
        [
         "14",
         "7.6",
         "7.488541666666668",
         "0.11145833333333144"
        ],
        [
         "15",
         "8.0",
         "8.016666666666666",
         "0.01666666666666572"
        ],
        [
         "16",
         "8.3",
         "8.544791666666661",
         "0.24479166666666075"
        ],
        [
         "17",
         "8.7",
         "8.984895833333326",
         "0.28489583333332646"
        ],
        [
         "18",
         "9.1",
         "9.248958333333325",
         "0.14895833333332575"
        ],
        [
         "19",
         "9.5",
         "9.601041666666658",
         "0.10104166666665826"
        ]
       ],
       "shape": {
        "columns": 3,
        "rows": 20
       }
      },
      "text/html": [
       "<div>\n",
       "<style scoped>\n",
       "    .dataframe tbody tr th:only-of-type {\n",
       "        vertical-align: middle;\n",
       "    }\n",
       "\n",
       "    .dataframe tbody tr th {\n",
       "        vertical-align: top;\n",
       "    }\n",
       "\n",
       "    .dataframe thead th {\n",
       "        text-align: right;\n",
       "    }\n",
       "</style>\n",
       "<table border=\"1\" class=\"dataframe\">\n",
       "  <thead>\n",
       "    <tr style=\"text-align: right;\">\n",
       "      <th></th>\n",
       "      <th>Actual Y</th>\n",
       "      <th>Predicted Y</th>\n",
       "      <th>Residual</th>\n",
       "    </tr>\n",
       "  </thead>\n",
       "  <tbody>\n",
       "    <tr>\n",
       "      <th>0</th>\n",
       "      <td>5.1</td>\n",
       "      <td>5.376042</td>\n",
       "      <td>0.276042</td>\n",
       "    </tr>\n",
       "    <tr>\n",
       "      <th>1</th>\n",
       "      <td>6.3</td>\n",
       "      <td>5.992188</td>\n",
       "      <td>0.307812</td>\n",
       "    </tr>\n",
       "    <tr>\n",
       "      <th>2</th>\n",
       "      <td>6.7</td>\n",
       "      <td>6.696354</td>\n",
       "      <td>0.003646</td>\n",
       "    </tr>\n",
       "    <tr>\n",
       "      <th>3</th>\n",
       "      <td>7.5</td>\n",
       "      <td>7.048438</td>\n",
       "      <td>0.451562</td>\n",
       "    </tr>\n",
       "    <tr>\n",
       "      <th>4</th>\n",
       "      <td>7.8</td>\n",
       "      <td>7.664583</td>\n",
       "      <td>0.135417</td>\n",
       "    </tr>\n",
       "    <tr>\n",
       "      <th>5</th>\n",
       "      <td>8.1</td>\n",
       "      <td>7.840625</td>\n",
       "      <td>0.259375</td>\n",
       "    </tr>\n",
       "    <tr>\n",
       "      <th>6</th>\n",
       "      <td>8.6</td>\n",
       "      <td>8.456771</td>\n",
       "      <td>0.143229</td>\n",
       "    </tr>\n",
       "    <tr>\n",
       "      <th>7</th>\n",
       "      <td>9.0</td>\n",
       "      <td>8.808854</td>\n",
       "      <td>0.191146</td>\n",
       "    </tr>\n",
       "    <tr>\n",
       "      <th>8</th>\n",
       "      <td>9.4</td>\n",
       "      <td>9.425000</td>\n",
       "      <td>0.025000</td>\n",
       "    </tr>\n",
       "    <tr>\n",
       "      <th>9</th>\n",
       "      <td>9.8</td>\n",
       "      <td>9.777083</td>\n",
       "      <td>0.022917</td>\n",
       "    </tr>\n",
       "    <tr>\n",
       "      <th>10</th>\n",
       "      <td>5.4</td>\n",
       "      <td>5.640104</td>\n",
       "      <td>0.240104</td>\n",
       "    </tr>\n",
       "    <tr>\n",
       "      <th>11</th>\n",
       "      <td>6.1</td>\n",
       "      <td>6.256250</td>\n",
       "      <td>0.156250</td>\n",
       "    </tr>\n",
       "    <tr>\n",
       "      <th>12</th>\n",
       "      <td>6.5</td>\n",
       "      <td>6.608333</td>\n",
       "      <td>0.108333</td>\n",
       "    </tr>\n",
       "    <tr>\n",
       "      <th>13</th>\n",
       "      <td>7.2</td>\n",
       "      <td>7.224479</td>\n",
       "      <td>0.024479</td>\n",
       "    </tr>\n",
       "    <tr>\n",
       "      <th>14</th>\n",
       "      <td>7.6</td>\n",
       "      <td>7.488542</td>\n",
       "      <td>0.111458</td>\n",
       "    </tr>\n",
       "    <tr>\n",
       "      <th>15</th>\n",
       "      <td>8.0</td>\n",
       "      <td>8.016667</td>\n",
       "      <td>0.016667</td>\n",
       "    </tr>\n",
       "    <tr>\n",
       "      <th>16</th>\n",
       "      <td>8.3</td>\n",
       "      <td>8.544792</td>\n",
       "      <td>0.244792</td>\n",
       "    </tr>\n",
       "    <tr>\n",
       "      <th>17</th>\n",
       "      <td>8.7</td>\n",
       "      <td>8.984896</td>\n",
       "      <td>0.284896</td>\n",
       "    </tr>\n",
       "    <tr>\n",
       "      <th>18</th>\n",
       "      <td>9.1</td>\n",
       "      <td>9.248958</td>\n",
       "      <td>0.148958</td>\n",
       "    </tr>\n",
       "    <tr>\n",
       "      <th>19</th>\n",
       "      <td>9.5</td>\n",
       "      <td>9.601042</td>\n",
       "      <td>0.101042</td>\n",
       "    </tr>\n",
       "  </tbody>\n",
       "</table>\n",
       "</div>"
      ],
      "text/plain": [
       "    Actual Y  Predicted Y  Residual\n",
       "0        5.1     5.376042  0.276042\n",
       "1        6.3     5.992188  0.307812\n",
       "2        6.7     6.696354  0.003646\n",
       "3        7.5     7.048438  0.451562\n",
       "4        7.8     7.664583  0.135417\n",
       "5        8.1     7.840625  0.259375\n",
       "6        8.6     8.456771  0.143229\n",
       "7        9.0     8.808854  0.191146\n",
       "8        9.4     9.425000  0.025000\n",
       "9        9.8     9.777083  0.022917\n",
       "10       5.4     5.640104  0.240104\n",
       "11       6.1     6.256250  0.156250\n",
       "12       6.5     6.608333  0.108333\n",
       "13       7.2     7.224479  0.024479\n",
       "14       7.6     7.488542  0.111458\n",
       "15       8.0     8.016667  0.016667\n",
       "16       8.3     8.544792  0.244792\n",
       "17       8.7     8.984896  0.284896\n",
       "18       9.1     9.248958  0.148958\n",
       "19       9.5     9.601042  0.101042"
      ]
     },
     "execution_count": 47,
     "metadata": {},
     "output_type": "execute_result"
    }
   ],
   "source": [
    "pred_df['Residual'] = abs(pred_df['Actual Y'] - pred_df['Predicted Y'])\n",
    "\n",
    "pred_df"
   ]
  },
  {
   "cell_type": "markdown",
   "id": "e2bbd862",
   "metadata": {},
   "source": [
    "Sum of Squared Error and Mean Squared Error"
   ]
  },
  {
   "cell_type": "code",
   "execution_count": 49,
   "id": "b0dadb62",
   "metadata": {},
   "outputs": [
    {
     "name": "stdout",
     "output_type": "stream",
     "text": [
      "Sum of Squared Error: 0.7992708333333326\n",
      "Mean Squared Error: 0.03996354166666663\n"
     ]
    }
   ],
   "source": [
    "print(f\"Sum of Squared Error: {(pred_df['Residual'] ** 2).sum()}\")\n",
    "print(f\"Mean Squared Error: {(pred_df['Residual'] ** 2).sum() / len(pred_df)}\")"
   ]
  },
  {
   "cell_type": "markdown",
   "id": "15bbb672",
   "metadata": {},
   "source": [
    "R^2 Score"
   ]
  },
  {
   "cell_type": "code",
   "execution_count": 50,
   "id": "93b4091c",
   "metadata": {},
   "outputs": [
    {
     "name": "stdout",
     "output_type": "stream",
     "text": [
      "R^2 Score: 0.9777395988544002\n"
     ]
    }
   ],
   "source": [
    "ss_res = (pred_df['Residual'] ** 2).sum()\n",
    "ss_tot = abs((pred_df['Actual Y'] - pred_df['Actual Y'].mean()) ** 2).sum()\n",
    "print(f\"R^2 Score: {1 - (ss_res / ss_tot)}\")"
   ]
  }
 ],
 "metadata": {
  "language_info": {
   "name": "python"
  }
 },
 "nbformat": 4,
 "nbformat_minor": 5
}
